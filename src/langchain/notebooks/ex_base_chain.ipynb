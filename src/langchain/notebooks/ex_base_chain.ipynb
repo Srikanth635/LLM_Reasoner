{
 "cells": [
  {
   "metadata": {},
   "cell_type": "markdown",
   "source": [
    "Agents are connected but have their own states. Only the final responses are appended to global state\n",
    "\n",
    "<img src=\"../../resources/images/multi_agent_supervisor.png\" alt=\"Multi Agent Supervisor\" height=\"300\" width=\"300\">\n",
    "\n",
    "Agents are independent LangChain agents. This means they have their own individual prompt, LLM, and tools."
   ],
   "id": "bd92306529b510c5"
  },
  {
   "metadata": {
    "ExecuteTime": {
     "end_time": "2025-05-08T11:40:47.454727Z",
     "start_time": "2025-05-08T11:40:47.431660Z"
    }
   },
   "cell_type": "code",
   "source": "from src.langchain.lg_workflow import *",
   "id": "3442cb04371686b8",
   "outputs": [],
   "execution_count": 14
  },
  {
   "metadata": {
    "ExecuteTime": {
     "end_time": "2025-05-08T11:42:55.582582Z",
     "start_time": "2025-05-08T11:42:55.578373Z"
    }
   },
   "cell_type": "code",
   "source": [
    "from IPython.display import display, Image\n",
    "# display(Image(math_agent.get_graph().draw_mermaid_png()))\n",
    "# display(Image(websearch_agent.get_graph().draw_mermaid_png()))\n",
    "# display(Image(framenet_agent.get_graph().draw_mermaid_png()))\n",
    "# display(Image(graph.get_graph().draw_mermaid_png()))"
   ],
   "id": "6fb01b822c99559e",
   "outputs": [],
   "execution_count": 24
  },
  {
   "metadata": {
    "ExecuteTime": {
     "end_time": "2025-05-08T11:41:18.538824Z",
     "start_time": "2025-05-08T11:41:12.461898Z"
    }
   },
   "cell_type": "code",
   "source": [
    "# Example: Complex Query Using Multiple Agents\n",
    "input_question = \"what is 2 times 2\"\n",
    "for s in graph.stream(\n",
    "    {\"messages\": [(\"user\", input_question)]},\n",
    "    subgraphs=True\n",
    "):\n",
    "    print(s)\n",
    "    print(\"----\")\n"
   ],
   "id": "e54ed6f87aad0a36",
   "outputs": [
    {
     "name": "stdout",
     "output_type": "stream",
     "text": [
      "Next Worker: mather\n",
      "((), {'supervisor': None})\n",
      "----\n",
      "INSIDE MULTIPLY TOOL\n",
      "(('mather:67e07948-e8c3-202f-9eb9-056a5117b001',), {'agent': {'messages': [AIMessage(content='', additional_kwargs={'tool_calls': [{'id': 'call_bEHaVfmgt9gp2FlvQ04C3mum', 'function': {'arguments': '{\"a\":2,\"b\":2}', 'name': 'multiply'}, 'type': 'function'}], 'refusal': None}, response_metadata={'token_usage': {'completion_tokens': 18, 'prompt_tokens': 72, 'total_tokens': 90, 'completion_tokens_details': {'accepted_prediction_tokens': 0, 'audio_tokens': 0, 'reasoning_tokens': 0, 'rejected_prediction_tokens': 0}, 'prompt_tokens_details': {'audio_tokens': 0, 'cached_tokens': 0}}, 'model_name': 'gpt-4o-mini-2024-07-18', 'system_fingerprint': 'fp_0392822090', 'finish_reason': 'tool_calls', 'logprobs': None}, id='run-2cfe528b-2118-44f5-aa68-7f49769055c5-0', tool_calls=[{'name': 'multiply', 'args': {'a': 2, 'b': 2}, 'id': 'call_bEHaVfmgt9gp2FlvQ04C3mum', 'type': 'tool_call'}], usage_metadata={'input_tokens': 72, 'output_tokens': 18, 'total_tokens': 90, 'input_token_details': {'audio': 0, 'cache_read': 0}, 'output_token_details': {'audio': 0, 'reasoning': 0}})]}})\n",
      "----\n",
      "(('mather:67e07948-e8c3-202f-9eb9-056a5117b001',), {'tools': {'messages': [ToolMessage(content='4.0', name='multiply', id='c71bdec9-aff1-49ff-a9e6-f3c985accd9e', tool_call_id='call_bEHaVfmgt9gp2FlvQ04C3mum')]}})\n",
      "----\n",
      "(('mather:67e07948-e8c3-202f-9eb9-056a5117b001',), {'agent': {'messages': [AIMessage(content='2 times 2 is 4.', additional_kwargs={'refusal': None}, response_metadata={'token_usage': {'completion_tokens': 10, 'prompt_tokens': 99, 'total_tokens': 109, 'completion_tokens_details': {'accepted_prediction_tokens': 0, 'audio_tokens': 0, 'reasoning_tokens': 0, 'rejected_prediction_tokens': 0}, 'prompt_tokens_details': {'audio_tokens': 0, 'cached_tokens': 0}}, 'model_name': 'gpt-4o-mini-2024-07-18', 'system_fingerprint': 'fp_0392822090', 'finish_reason': 'stop', 'logprobs': None}, id='run-fed81a9c-4ad3-4c2e-870c-c087e8fc3210-0', usage_metadata={'input_tokens': 99, 'output_tokens': 10, 'total_tokens': 109, 'input_token_details': {'audio': 0, 'cache_read': 0}, 'output_token_details': {'audio': 0, 'reasoning': 0}})]}})\n",
      "----\n",
      "((), {'mather': {'messages': [HumanMessage(content='2 times 2 is 4.', additional_kwargs={}, response_metadata={}, name='mather')]}})\n",
      "----\n",
      "Next Worker: FINISH\n",
      "((), {'supervisor': None})\n",
      "----\n"
     ]
    }
   ],
   "execution_count": 19
  },
  {
   "metadata": {
    "ExecuteTime": {
     "end_time": "2025-05-08T11:41:23.459193Z",
     "start_time": "2025-05-08T11:41:20.674779Z"
    }
   },
   "cell_type": "code",
   "source": [
    "# Example: Complex Query Using Multiple Agents\n",
    "input_question = \"what is the value of 2 + 10\"\n",
    "for s in graph.stream(\n",
    "    {\"messages\": [(\"user\", input_question)]},\n",
    "    subgraphs=True\n",
    "):\n",
    "    print(s)\n",
    "    print(\"----\")\n"
   ],
   "id": "fc9e1a5c75b55215",
   "outputs": [
    {
     "name": "stdout",
     "output_type": "stream",
     "text": [
      "Next Worker: mather\n",
      "((), {'supervisor': None})\n",
      "----\n",
      "INSIDE ADD TOOL\n",
      "(('mather:7e718e9d-47de-2c3c-3269-a25ad4b2afc8',), {'agent': {'messages': [AIMessage(content='', additional_kwargs={'tool_calls': [{'id': 'call_X7cHb7RAykEvNtAWlmt2Vd2R', 'function': {'arguments': '{\"a\":2,\"b\":10}', 'name': 'add'}, 'type': 'function'}], 'refusal': None}, response_metadata={'token_usage': {'completion_tokens': 18, 'prompt_tokens': 75, 'total_tokens': 93, 'completion_tokens_details': {'accepted_prediction_tokens': 0, 'audio_tokens': 0, 'reasoning_tokens': 0, 'rejected_prediction_tokens': 0}, 'prompt_tokens_details': {'audio_tokens': 0, 'cached_tokens': 0}}, 'model_name': 'gpt-4o-mini-2024-07-18', 'system_fingerprint': 'fp_0392822090', 'finish_reason': 'tool_calls', 'logprobs': None}, id='run-b05a0c4f-a66f-4c2a-9121-90ab1791e6d5-0', tool_calls=[{'name': 'add', 'args': {'a': 2, 'b': 10}, 'id': 'call_X7cHb7RAykEvNtAWlmt2Vd2R', 'type': 'tool_call'}], usage_metadata={'input_tokens': 75, 'output_tokens': 18, 'total_tokens': 93, 'input_token_details': {'audio': 0, 'cache_read': 0}, 'output_token_details': {'audio': 0, 'reasoning': 0}})]}})\n",
      "----\n",
      "(('mather:7e718e9d-47de-2c3c-3269-a25ad4b2afc8',), {'tools': {'messages': [ToolMessage(content='12.0', name='add', id='95ee9152-f44f-4c06-ab83-a2990b3d3f44', tool_call_id='call_X7cHb7RAykEvNtAWlmt2Vd2R')]}})\n",
      "----\n",
      "(('mather:7e718e9d-47de-2c3c-3269-a25ad4b2afc8',), {'agent': {'messages': [AIMessage(content='The value of \\\\(2 + 10\\\\) is \\\\(12\\\\).', additional_kwargs={'refusal': None}, response_metadata={'token_usage': {'completion_tokens': 17, 'prompt_tokens': 102, 'total_tokens': 119, 'completion_tokens_details': {'accepted_prediction_tokens': 0, 'audio_tokens': 0, 'reasoning_tokens': 0, 'rejected_prediction_tokens': 0}, 'prompt_tokens_details': {'audio_tokens': 0, 'cached_tokens': 0}}, 'model_name': 'gpt-4o-mini-2024-07-18', 'system_fingerprint': 'fp_0392822090', 'finish_reason': 'stop', 'logprobs': None}, id='run-28a75253-1847-4387-83e4-9de4d2b9a716-0', usage_metadata={'input_tokens': 102, 'output_tokens': 17, 'total_tokens': 119, 'input_token_details': {'audio': 0, 'cache_read': 0}, 'output_token_details': {'audio': 0, 'reasoning': 0}})]}})\n",
      "----\n",
      "((), {'mather': {'messages': [HumanMessage(content='The value of \\\\(2 + 10\\\\) is \\\\(12\\\\).', additional_kwargs={}, response_metadata={}, name='mather')]}})\n",
      "----\n",
      "Next Worker: FINISH\n",
      "((), {'supervisor': None})\n",
      "----\n"
     ]
    }
   ],
   "execution_count": 20
  },
  {
   "metadata": {
    "ExecuteTime": {
     "end_time": "2025-05-08T11:41:37.142129Z",
     "start_time": "2025-05-08T11:41:27.349086Z"
    }
   },
   "cell_type": "code",
   "source": [
    "# Example: Complex Query Using Multiple Agents\n",
    "input_question = \"who is apple company founder\"\n",
    "for s in graph.stream(\n",
    "    {\"messages\": [(\"user\", input_question)]},\n",
    "    subgraphs=True\n",
    "):\n",
    "    print(s)\n",
    "    print(\"----\")\n"
   ],
   "id": "b9980ce4b212f44a",
   "outputs": [
    {
     "name": "stdout",
     "output_type": "stream",
     "text": [
      "Next Worker: web_researcher\n",
      "((), {'supervisor': None})\n",
      "----\n",
      "(('web_researcher:f82318f7-5e51-21d6-3a8a-e5c1bbb68d8b',), {'agent': {'messages': [AIMessage(content='', additional_kwargs={'tool_calls': [{'id': 'call_2UPGcQsbgilb9u2i3xGKJjdV', 'function': {'arguments': '{\"query\":\"Apple company founder\"}', 'name': 'tavily_search_results_json'}, 'type': 'function'}], 'refusal': None}, response_metadata={'token_usage': {'completion_tokens': 21, 'prompt_tokens': 84, 'total_tokens': 105, 'completion_tokens_details': {'accepted_prediction_tokens': 0, 'audio_tokens': 0, 'reasoning_tokens': 0, 'rejected_prediction_tokens': 0}, 'prompt_tokens_details': {'audio_tokens': 0, 'cached_tokens': 0}}, 'model_name': 'gpt-4o-mini-2024-07-18', 'system_fingerprint': 'fp_dbaca60df0', 'finish_reason': 'tool_calls', 'logprobs': None}, id='run-9f66eecd-9a7d-4a50-9f16-2f77e3c0c53f-0', tool_calls=[{'name': 'tavily_search_results_json', 'args': {'query': 'Apple company founder'}, 'id': 'call_2UPGcQsbgilb9u2i3xGKJjdV', 'type': 'tool_call'}], usage_metadata={'input_tokens': 84, 'output_tokens': 21, 'total_tokens': 105, 'input_token_details': {'audio': 0, 'cache_read': 0}, 'output_token_details': {'audio': 0, 'reasoning': 0}})]}})\n",
      "----\n",
      "(('web_researcher:f82318f7-5e51-21d6-3a8a-e5c1bbb68d8b',), {'tools': {'messages': [ToolMessage(content='[{\"url\": \"https://en.wikipedia.org/wiki/Apple_Inc.\", \"content\": \"Apple Inc. is an American multinational corporation and technology company headquartered in Cupertino, California, in Silicon Valley. It is best known for its consumer electronics, software, and services. Founded in 1976 as Apple Computer Company by Steve Jobs, Steve Wozniak and Ronald Wayne, the company was incorporated by Jobs and Wozniak as Apple Computer, Inc. the following year. It was renamed Apple Inc. in 2007 as the company had expanded its focus from computers to consumer electronics. [...] Apple Computer Company was founded on April 1, 1976, by Steve Jobs, Steve Wozniak, and Ronald Wayne as a partnership.[8][11] The company\\'s first product is the Apple I, a computer designed and hand-built entirely by Wozniak.[12] To finance its creation, Jobs sold his Volkswagen Bus, and Wozniak sold his HP-65 calculator.[13]:\\u200a57\\u200a Neither received the full selling price but in total earned $1,300 (equivalent to $7,200 in 2024). Wozniak debuted the first prototype Apple I at the Homebrew Computer [...] componentISINUS0378331005IndustryConsumer electronicsSoftware servicesOnline servicesFoundedApril\\xa01, 1976; 49 years ago\\xa0(1976-04-01), in Los Altos, California, U.S.FoundersSteve JobsSteve WozniakRonald WayneHeadquarters1 Apple Park Way,Cupertino, California,U.S.Number of locations535 Apple Stores\\xa0(2025)Area servedWorldwideKey peopleTim Cook (CEO)Arthur Levinson (chairman)Products.mw-parser-output .hlist dl,.mw-parser-output .hlist ol,.mw-parser-output .hlist\"}, {\"url\": \"https://en.wikipedia.org/wiki/Steve_Jobs\", \"content\": \"Steven Paul Jobs (February 24, 1955 – October 5, 2011) was an American businessman, inventor, and investor best known for co-founding the technology company Apple Inc. Jobs was also the founder of NeXT and chairman and majority shareholder of Pixar. He was a pioneer of the personal computer revolution of the 1970s and 1980s, along with his early business partner and fellow Apple co-founder Steve Wozniak. [...] By March 1976, Wozniak completed the basic design of the Apple I computer and showed it to Jobs, who suggested that they sell it; Wozniak was at first skeptical of the idea but later agreed.[69] In April of that same year, Jobs, Wozniak, and administrative overseer Ronald Wayne founded Apple Computer Company (now called \\\\\"Apple Inc.\\\\\") as a business partnership in Jobs\\'s parents\\' Crist Drive home on April 1, 1976. The operation originally started in Jobs\\'s bedroom and later moved to the\"}]', name='tavily_search_results_json', id='0eca3dc6-e22a-4eb4-9e3e-f60008b463e3', tool_call_id='call_2UPGcQsbgilb9u2i3xGKJjdV', artifact={'query': 'Apple company founder', 'follow_up_questions': None, 'answer': None, 'images': [], 'results': [{'url': 'https://en.wikipedia.org/wiki/Apple_Inc.', 'title': 'Apple Inc. - Wikipedia', 'content': \"Apple Inc. is an American multinational corporation and technology company headquartered in Cupertino, California, in Silicon Valley. It is best known for its consumer electronics, software, and services. Founded in 1976 as Apple Computer Company by Steve Jobs, Steve Wozniak and Ronald Wayne, the company was incorporated by Jobs and Wozniak as Apple Computer, Inc. the following year. It was renamed Apple Inc. in 2007 as the company had expanded its focus from computers to consumer electronics. [...] Apple Computer Company was founded on April 1, 1976, by Steve Jobs, Steve Wozniak, and Ronald Wayne as a partnership.[8][11] The company's first product is the Apple I, a computer designed and hand-built entirely by Wozniak.[12] To finance its creation, Jobs sold his Volkswagen Bus, and Wozniak sold his HP-65 calculator.[13]:\\u200a57\\u200a Neither received the full selling price but in total earned $1,300 (equivalent to $7,200 in 2024). Wozniak debuted the first prototype Apple I at the Homebrew Computer [...] componentISINUS0378331005IndustryConsumer electronicsSoftware servicesOnline servicesFoundedApril\\xa01, 1976; 49 years ago\\xa0(1976-04-01), in Los Altos, California, U.S.FoundersSteve JobsSteve WozniakRonald WayneHeadquarters1 Apple Park Way,Cupertino, California,U.S.Number of locations535 Apple Stores\\xa0(2025)Area servedWorldwideKey peopleTim Cook (CEO)Arthur Levinson (chairman)Products.mw-parser-output .hlist dl,.mw-parser-output .hlist ol,.mw-parser-output .hlist\", 'score': 0.885404, 'raw_content': None}, {'url': 'https://en.wikipedia.org/wiki/Steve_Jobs', 'title': 'Steve Jobs - Wikipedia', 'content': 'Steven Paul Jobs (February 24, 1955 – October 5, 2011) was an American businessman, inventor, and investor best known for co-founding the technology company Apple Inc. Jobs was also the founder of NeXT and chairman and majority shareholder of Pixar. He was a pioneer of the personal computer revolution of the 1970s and 1980s, along with his early business partner and fellow Apple co-founder Steve Wozniak. [...] By March 1976, Wozniak completed the basic design of the Apple I computer and showed it to Jobs, who suggested that they sell it; Wozniak was at first skeptical of the idea but later agreed.[69] In April of that same year, Jobs, Wozniak, and administrative overseer Ronald Wayne founded Apple Computer Company (now called \"Apple Inc.\") as a business partnership in Jobs\\'s parents\\' Crist Drive home on April 1, 1976. The operation originally started in Jobs\\'s bedroom and later moved to the', 'score': 0.8752871, 'raw_content': None}], 'response_time': 1.48})]}})\n",
      "----\n",
      "(('web_researcher:f82318f7-5e51-21d6-3a8a-e5c1bbb68d8b',), {'agent': {'messages': [AIMessage(content='Apple Inc. was founded on April 1, 1976, by Steve Jobs, Steve Wozniak, and Ronald Wayne. Initially established as Apple Computer Company, it was later renamed Apple Inc. in 2007 as the company expanded its focus beyond computers to consumer electronics. The first product they created was the Apple I computer, which was designed and hand-built by Wozniak. \\n\\nFor more detailed information, you can visit the [Wikipedia page on Apple Inc.](https://en.wikipedia.org/wiki/Apple_Inc.) or the [Wikipedia page on Steve Jobs](https://en.wikipedia.org/wiki/Steve_Jobs).', additional_kwargs={'refusal': None}, response_metadata={'token_usage': {'completion_tokens': 132, 'prompt_tokens': 725, 'total_tokens': 857, 'completion_tokens_details': {'accepted_prediction_tokens': 0, 'audio_tokens': 0, 'reasoning_tokens': 0, 'rejected_prediction_tokens': 0}, 'prompt_tokens_details': {'audio_tokens': 0, 'cached_tokens': 0}}, 'model_name': 'gpt-4o-mini-2024-07-18', 'system_fingerprint': 'fp_dbaca60df0', 'finish_reason': 'stop', 'logprobs': None}, id='run-a3a11210-4aea-4a88-af4e-8b575f49ef69-0', usage_metadata={'input_tokens': 725, 'output_tokens': 132, 'total_tokens': 857, 'input_token_details': {'audio': 0, 'cache_read': 0}, 'output_token_details': {'audio': 0, 'reasoning': 0}})]}})\n",
      "----\n",
      "((), {'web_researcher': {'messages': [HumanMessage(content='Apple Inc. was founded on April 1, 1976, by Steve Jobs, Steve Wozniak, and Ronald Wayne. Initially established as Apple Computer Company, it was later renamed Apple Inc. in 2007 as the company expanded its focus beyond computers to consumer electronics. The first product they created was the Apple I computer, which was designed and hand-built by Wozniak. \\n\\nFor more detailed information, you can visit the [Wikipedia page on Apple Inc.](https://en.wikipedia.org/wiki/Apple_Inc.) or the [Wikipedia page on Steve Jobs](https://en.wikipedia.org/wiki/Steve_Jobs).', additional_kwargs={}, response_metadata={}, name='web_researcher')]}})\n",
      "----\n",
      "Next Worker: framenet\n",
      "((), {'supervisor': None})\n",
      "----\n",
      "(('framenet:1b552ac9-6546-d336-ef79-02dafb7eca24',), {'agent': {'messages': [AIMessage(content='Apple Inc. was founded on April 1, 1976, by Steve Jobs, Steve Wozniak, and Ronald Wayne. Initially named Apple Computer Company, it was later renamed Apple Inc. in 2007 as the company expanded its focus beyond computers to consumer electronics. The first product they created was the Apple I computer, designed and hand-built by Wozniak. \\n\\nFor more detailed information, you can visit the [Wikipedia page on Apple Inc.](https://en.wikipedia.org/wiki/Apple_Inc.) or the [Wikipedia page on Steve Jobs](https://en.wikipedia.org/wiki/Steve_Jobs).', additional_kwargs={'refusal': None}, response_metadata={'token_usage': {'completion_tokens': 129, 'prompt_tokens': 192, 'total_tokens': 321, 'completion_tokens_details': {'accepted_prediction_tokens': 0, 'audio_tokens': 0, 'reasoning_tokens': 0, 'rejected_prediction_tokens': 0}, 'prompt_tokens_details': {'audio_tokens': 0, 'cached_tokens': 0}}, 'model_name': 'gpt-4o-mini-2024-07-18', 'system_fingerprint': 'fp_0392822090', 'finish_reason': 'stop', 'logprobs': None}, id='run-94f5c1e5-f2f1-4648-b5d2-9f326b0dd21a-0', usage_metadata={'input_tokens': 192, 'output_tokens': 129, 'total_tokens': 321, 'input_token_details': {'audio': 0, 'cache_read': 0}, 'output_token_details': {'audio': 0, 'reasoning': 0}})]}})\n",
      "----\n",
      "((), {'framenet': {'messages': [HumanMessage(content='Apple Inc. was founded on April 1, 1976, by Steve Jobs, Steve Wozniak, and Ronald Wayne. Initially named Apple Computer Company, it was later renamed Apple Inc. in 2007 as the company expanded its focus beyond computers to consumer electronics. The first product they created was the Apple I computer, designed and hand-built by Wozniak. \\n\\nFor more detailed information, you can visit the [Wikipedia page on Apple Inc.](https://en.wikipedia.org/wiki/Apple_Inc.) or the [Wikipedia page on Steve Jobs](https://en.wikipedia.org/wiki/Steve_Jobs).', additional_kwargs={}, response_metadata={}, name='framenet')]}})\n",
      "----\n",
      "Next Worker: FINISH\n",
      "((), {'supervisor': None})\n",
      "----\n"
     ]
    }
   ],
   "execution_count": 21
  },
  {
   "metadata": {
    "ExecuteTime": {
     "end_time": "2025-05-08T11:41:41.074210Z",
     "start_time": "2025-05-08T11:41:38.448599Z"
    }
   },
   "cell_type": "code",
   "source": [
    "# Example: Complex Query Using Multiple Agents\n",
    "input_question = \"who is the framenet representation of apple\"\n",
    "for s in graph.stream(\n",
    "    {\"messages\": [(\"user\", input_question)]},\n",
    "    subgraphs=True\n",
    "):\n",
    "    print(s)\n",
    "    print(\"----\")\n"
   ],
   "id": "f631ea35b1ae8d6",
   "outputs": [
    {
     "name": "stdout",
     "output_type": "stream",
     "text": [
      "Next Worker: framenet\n",
      "((), {'supervisor': None})\n",
      "----\n",
      "INSIDE FRAMENET TOOL(('framenet:665bdcb9-94b4-ef92-1eb9-1b19fdc9af37',), {'agent': {'messages': [AIMessage(content='', additional_kwargs={'tool_calls': [{'id': 'call_f4ihGoMJqWLpImpKQwRavrsd', 'function': {'arguments': '{\"a\":\"apple\"}', 'name': 'framenet'}, 'type': 'function'}], 'refusal': None}, response_metadata={'token_usage': {'completion_tokens': 16, 'prompt_tokens': 58, 'total_tokens': 74, 'completion_tokens_details': {'accepted_prediction_tokens': 0, 'audio_tokens': 0, 'reasoning_tokens': 0, 'rejected_prediction_tokens': 0}, 'prompt_tokens_details': {'audio_tokens': 0, 'cached_tokens': 0}}, 'model_name': 'gpt-4o-mini-2024-07-18', 'system_fingerprint': 'fp_0392822090', 'finish_reason': 'tool_calls', 'logprobs': None}, id='run-34c4982e-60d0-453d-a293-30ef70a28f93-0', tool_calls=[{'name': 'framenet', 'args': {'a': 'apple'}, 'id': 'call_f4ihGoMJqWLpImpKQwRavrsd', 'type': 'tool_call'}], usage_metadata={'input_tokens': 58, 'output_tokens': 16, 'total_tokens': 74, 'input_token_details': {'audio': 0, 'cache_read': 0}, 'output_token_details': {'audio': 0, 'reasoning': 0}})]}})\n",
      "----\n",
      "\n",
      "(('framenet:665bdcb9-94b4-ef92-1eb9-1b19fdc9af37',), {'tools': {'messages': [ToolMessage(content='{\"agent\": \"robot\", \"patient\": \"apple\"}', name='framenet', id='f17394c4-8a98-4b62-b65d-800d70c263e8', tool_call_id='call_f4ihGoMJqWLpImpKQwRavrsd')]}})\n",
      "----\n",
      "(('framenet:665bdcb9-94b4-ef92-1eb9-1b19fdc9af37',), {'agent': {'messages': [AIMessage(content='The FrameNet representation of \"apple\" includes the following roles:\\n\\n- **Agent**: robot\\n- **Patient**: apple\\n\\nThis indicates that in a certain context, a robot may act as the agent involving the apple as the patient.', additional_kwargs={'refusal': None}, response_metadata={'token_usage': {'completion_tokens': 51, 'prompt_tokens': 94, 'total_tokens': 145, 'completion_tokens_details': {'accepted_prediction_tokens': 0, 'audio_tokens': 0, 'reasoning_tokens': 0, 'rejected_prediction_tokens': 0}, 'prompt_tokens_details': {'audio_tokens': 0, 'cached_tokens': 0}}, 'model_name': 'gpt-4o-mini-2024-07-18', 'system_fingerprint': 'fp_0392822090', 'finish_reason': 'stop', 'logprobs': None}, id='run-51b46a02-f2f6-4635-ac43-ae75c7f51263-0', usage_metadata={'input_tokens': 94, 'output_tokens': 51, 'total_tokens': 145, 'input_token_details': {'audio': 0, 'cache_read': 0}, 'output_token_details': {'audio': 0, 'reasoning': 0}})]}})\n",
      "----\n",
      "((), {'framenet': {'messages': [HumanMessage(content='The FrameNet representation of \"apple\" includes the following roles:\\n\\n- **Agent**: robot\\n- **Patient**: apple\\n\\nThis indicates that in a certain context, a robot may act as the agent involving the apple as the patient.', additional_kwargs={}, response_metadata={}, name='framenet')]}})\n",
      "----\n",
      "Next Worker: FINISH\n",
      "((), {'supervisor': None})\n",
      "----\n"
     ]
    }
   ],
   "execution_count": 22
  },
  {
   "metadata": {
    "ExecuteTime": {
     "end_time": "2025-05-08T11:10:08.940475Z",
     "start_time": "2025-05-08T11:09:52.883725Z"
    }
   },
   "cell_type": "code",
   "source": [
    "# Example: Complex Query Using Multiple Agents\n",
    "input_question = \"who is the ceo of google and what is the framenet representation of apple\"\n",
    "for s in graph.stream(\n",
    "    {\"messages\": [(\"user\", input_question)]},\n",
    "    subgraphs=True\n",
    "):\n",
    "    print(s)\n",
    "    print(\"----\")\n"
   ],
   "id": "7eb90ed0041629cc",
   "outputs": [
    {
     "name": "stdout",
     "output_type": "stream",
     "text": [
      "Next Worker: web_researcher\n",
      "((), {'supervisor': None})\n",
      "----\n",
      "(('web_researcher:f0da72e0-6ca4-c4b2-3b54-acd577e0e1e1',), {'agent': {'messages': [AIMessage(content='', additional_kwargs={'tool_calls': [{'id': 'call_cywCispxnbmJSwRx4kTE1wfT', 'function': {'arguments': '{\"query\": \"current CEO of Google\"}', 'name': 'tavily_search_results_json'}, 'type': 'function'}, {'id': 'call_Oq2AlaVznDhc8MnItb9klZin', 'function': {'arguments': '{\"query\": \"FrameNet representation of Apple\"}', 'name': 'tavily_search_results_json'}, 'type': 'function'}], 'refusal': None}, response_metadata={'token_usage': {'completion_tokens': 60, 'prompt_tokens': 96, 'total_tokens': 156, 'completion_tokens_details': {'accepted_prediction_tokens': 0, 'audio_tokens': 0, 'reasoning_tokens': 0, 'rejected_prediction_tokens': 0}, 'prompt_tokens_details': {'audio_tokens': 0, 'cached_tokens': 0}}, 'model_name': 'gpt-4o-mini-2024-07-18', 'system_fingerprint': 'fp_dbaca60df0', 'finish_reason': 'tool_calls', 'logprobs': None}, id='run-09da744b-756a-44c9-8292-a68de92b19d9-0', tool_calls=[{'name': 'tavily_search_results_json', 'args': {'query': 'current CEO of Google'}, 'id': 'call_cywCispxnbmJSwRx4kTE1wfT', 'type': 'tool_call'}, {'name': 'tavily_search_results_json', 'args': {'query': 'FrameNet representation of Apple'}, 'id': 'call_Oq2AlaVznDhc8MnItb9klZin', 'type': 'tool_call'}], usage_metadata={'input_tokens': 96, 'output_tokens': 60, 'total_tokens': 156, 'input_token_details': {'audio': 0, 'cache_read': 0}, 'output_token_details': {'audio': 0, 'reasoning': 0}})]}})\n",
      "----\n",
      "(('web_researcher:f0da72e0-6ca4-c4b2-3b54-acd577e0e1e1',), {'tools': {'messages': [ToolMessage(content='[{\"url\": \"https://en.wikipedia.org/wiki/Google\", \"content\": \"holding company for Alphabet\\'s internet properties and interests. Sundar Pichai was appointed CEO of Google on October 24, 2015, replacing Larry Page, who became the CEO of Alphabet. On December 3, 2019, Pichai also became the CEO of Alphabet.[14] [...] Current | Krishna BharatVint CerfJeff DeanJohn DoerrSanjay GhemawatAl GoreJohn L. HennessyUrs HölzleSalar KamangarRay KurzweilAnn MatherAlan MulallyRick OsterlohSundar Pichai(CEO)Ruth Porat(CFO)Rajen ShethHal VarianNeal Mohan\\\\nFormer | Andy BechtolsheimSergey Brin(co-founder)David CheritonMatt CuttsDavid DrummondAlan EustaceTimnit GebruOmid KordestaniPaul OtelliniLarry Page(co-founder)Patrick PichetteEric SchmidtRam ShriramAmit SinghalShirley M. TilghmanRachel WhetstoneSusan Wojcicki [...] Current | Krishna BharatVint CerfJeff DeanJohn DoerrSanjay GhemawatAl GoreJohn L. HennessyUrs HölzleSalar KamangarRay KurzweilAnn MatherAlan MulallyRick OsterlohSundar Pichai(CEO)Ruth Porat(CFO)Rajen ShethHal VarianNeal Mohan\\\\nFormer | Andy BechtolsheimSergey Brin(co-founder)David CheritonMatt CuttsDavid DrummondAlan EustaceTimnit GebruOmid KordestaniPaul OtelliniLarry Page(co-founder)Patrick PichetteEric SchmidtRam ShriramAmit SinghalShirley M. TilghmanRachel WhetstoneSusan Wojcicki\"}, {\"url\": \"https://en.wikipedia.org/wiki/Sundar_Pichai\", \"content\": \"Current | Frances ArnoldSergey BrinR. Martin ChavezJohn DoerrJohn L. HennessyAnn MatherLarry PageSundar PichaiRam ShriramRoger W. Ferguson Jr.\\\\nFormer | Diane GreeneAlan MulallyEric Schmidt\\\\nOthers | Andrew ConradTony FadellArthur D. LevinsonDavid KraneAstro Teller\\\\nCurrent | Sundar Pichai(CEO)Ruth Porat(president andCIO)Anat Ashkenazi(CFO)\\\\nFormer | Larry Page(CEO)Sergey Brin(President)David Drummond(CLO) [...] People | ExecutivesCurrentSundar Pichai(CEO)Ruth Porat(president andCIO)Anat Ashkenazi(CFO)FormerLarry Page(CEO)Sergey Brin(President)David Drummond(CLO)Board ofdirectorsCurrentFrances ArnoldSergey BrinR. Martin ChavezJohn DoerrJohn L. HennessyAnn MatherLarry PageSundar PichaiRam ShriramRoger W. Ferguson Jr.FormerDiane GreeneAlan MulallyEric SchmidtOthersAndrew ConradTony FadellArthur D. LevinsonDavid KraneAstro Teller | Executives | CurrentSundar Pichai(CEO)Ruth Porat(president andCIO)Anat [...] Executives | CurrentSundar Pichai(CEO)Ruth Porat(president andCIO)Anat Ashkenazi(CFO)FormerLarry Page(CEO)Sergey Brin(President)David Drummond(CLO) | Current | Sundar Pichai(CEO)Ruth Porat(president andCIO)Anat Ashkenazi(CFO) | Former | Larry Page(CEO)Sergey Brin(President)David Drummond(CLO)\\\\nCurrent | Sundar Pichai(CEO)Ruth Porat(president andCIO)Anat Ashkenazi(CFO)\\\\nFormer | Larry Page(CEO)Sergey Brin(President)David Drummond(CLO)\"}]', name='tavily_search_results_json', id='53b3a037-c553-4beb-b09f-052f7a133923', tool_call_id='call_cywCispxnbmJSwRx4kTE1wfT', artifact={'query': 'current CEO of Google', 'follow_up_questions': None, 'answer': None, 'images': [], 'results': [{'url': 'https://en.wikipedia.org/wiki/Google', 'title': 'Google - Wikipedia', 'content': \"holding company for Alphabet's internet properties and interests. Sundar Pichai was appointed CEO of Google on October 24, 2015, replacing Larry Page, who became the CEO of Alphabet. On December 3, 2019, Pichai also became the CEO of Alphabet.[14] [...] Current | Krishna BharatVint CerfJeff DeanJohn DoerrSanjay GhemawatAl GoreJohn L. HennessyUrs HölzleSalar KamangarRay KurzweilAnn MatherAlan MulallyRick OsterlohSundar Pichai(CEO)Ruth Porat(CFO)Rajen ShethHal VarianNeal Mohan\\nFormer | Andy BechtolsheimSergey Brin(co-founder)David CheritonMatt CuttsDavid DrummondAlan EustaceTimnit GebruOmid KordestaniPaul OtelliniLarry Page(co-founder)Patrick PichetteEric SchmidtRam ShriramAmit SinghalShirley M. TilghmanRachel WhetstoneSusan Wojcicki [...] Current | Krishna BharatVint CerfJeff DeanJohn DoerrSanjay GhemawatAl GoreJohn L. HennessyUrs HölzleSalar KamangarRay KurzweilAnn MatherAlan MulallyRick OsterlohSundar Pichai(CEO)Ruth Porat(CFO)Rajen ShethHal VarianNeal Mohan\\nFormer | Andy BechtolsheimSergey Brin(co-founder)David CheritonMatt CuttsDavid DrummondAlan EustaceTimnit GebruOmid KordestaniPaul OtelliniLarry Page(co-founder)Patrick PichetteEric SchmidtRam ShriramAmit SinghalShirley M. TilghmanRachel WhetstoneSusan Wojcicki\", 'score': 0.8548001, 'raw_content': None}, {'url': 'https://en.wikipedia.org/wiki/Sundar_Pichai', 'title': 'Sundar Pichai - Wikipedia', 'content': 'Current | Frances ArnoldSergey BrinR. Martin ChavezJohn DoerrJohn L. HennessyAnn MatherLarry PageSundar PichaiRam ShriramRoger W. Ferguson Jr.\\nFormer | Diane GreeneAlan MulallyEric Schmidt\\nOthers | Andrew ConradTony FadellArthur D. LevinsonDavid KraneAstro Teller\\nCurrent | Sundar Pichai(CEO)Ruth Porat(president andCIO)Anat Ashkenazi(CFO)\\nFormer | Larry Page(CEO)Sergey Brin(President)David Drummond(CLO) [...] People | ExecutivesCurrentSundar Pichai(CEO)Ruth Porat(president andCIO)Anat Ashkenazi(CFO)FormerLarry Page(CEO)Sergey Brin(President)David Drummond(CLO)Board ofdirectorsCurrentFrances ArnoldSergey BrinR. Martin ChavezJohn DoerrJohn L. HennessyAnn MatherLarry PageSundar PichaiRam ShriramRoger W. Ferguson Jr.FormerDiane GreeneAlan MulallyEric SchmidtOthersAndrew ConradTony FadellArthur D. LevinsonDavid KraneAstro Teller | Executives | CurrentSundar Pichai(CEO)Ruth Porat(president andCIO)Anat [...] Executives | CurrentSundar Pichai(CEO)Ruth Porat(president andCIO)Anat Ashkenazi(CFO)FormerLarry Page(CEO)Sergey Brin(President)David Drummond(CLO) | Current | Sundar Pichai(CEO)Ruth Porat(president andCIO)Anat Ashkenazi(CFO) | Former | Larry Page(CEO)Sergey Brin(President)David Drummond(CLO)\\nCurrent | Sundar Pichai(CEO)Ruth Porat(president andCIO)Anat Ashkenazi(CFO)\\nFormer | Larry Page(CEO)Sergey Brin(President)David Drummond(CLO)', 'score': 0.8443195, 'raw_content': None}], 'response_time': 3.34}), ToolMessage(content='[{\"url\": \"https://developer.apple.com/documentation/realitykit/sampledanimation/frames-2h6tu\", \"content\": \"An array of floating-point quadruples in which each element represents a discrete state of the animated property at a given point in the animation\\'s timeline.\"}, {\"url\": \"https://www.macstories.net/ios/apple-frames-3-0-completely-rewritten-support-for-iphone-14-pro-and-dynamic-island-new-devices-multiple-display-resolutions-and-more/\", \"content\": \"If you recall, Apple Frames 2.0 was built around a single Frames.json file that contained plain text representations of device frames as base64-encoded strings. That technique worked well for a long time, but when I started adding new frames for the latest Macs and iPhones, I realized that the file had grown too large for Shortcuts and other apps. The JSON file was so big, Jayson couldn’t open it anymore – thus preventing me from debugging it – and Shortcuts would crash when prompting users to [...] Airs, MacBook Pros, and iMac. All of this, as always, in a native shortcut designed for high performance that uses Apple’s official device images and requires no manual configuration whatsoever. [...] Today, I’m pleased to announce the release of version 3.0 of Apple Frames, my shortcut to put screenshots taken on various Apple devices inside physical frames for iPhone, iPad, Mac, and Apple Watch.\"}]', name='tavily_search_results_json', id='f4d8f142-0ce6-4808-b10c-e9fea578ca27', tool_call_id='call_Oq2AlaVznDhc8MnItb9klZin', artifact={'query': 'FrameNet representation of Apple', 'follow_up_questions': None, 'answer': None, 'images': [], 'results': [{'url': 'https://developer.apple.com/documentation/realitykit/sampledanimation/frames-2h6tu', 'title': 'frames | Apple Developer Documentation', 'content': \"An array of floating-point quadruples in which each element represents a discrete state of the animated property at a given point in the animation's timeline.\", 'score': 0.47066417, 'raw_content': None}, {'url': 'https://www.macstories.net/ios/apple-frames-3-0-completely-rewritten-support-for-iphone-14-pro-and-dynamic-island-new-devices-multiple-display-resolutions-and-more/', 'title': 'Apple Frames 3.0: Completely Rewritten, Support for iPhone 14 Pro ...', 'content': 'If you recall, Apple Frames 2.0 was built around a single Frames.json file that contained plain text representations of device frames as base64-encoded strings. That technique worked well for a long time, but when I started adding new frames for the latest Macs and iPhones, I realized that the file had grown too large for Shortcuts and other apps. The JSON file was so big, Jayson couldn’t open it anymore – thus preventing me from debugging it – and Shortcuts would crash when prompting users to [...] Airs, MacBook Pros, and iMac. All of this, as always, in a native shortcut designed for high performance that uses Apple’s official device images and requires no manual configuration whatsoever. [...] Today, I’m pleased to announce the release of version 3.0 of Apple Frames, my shortcut to put screenshots taken on various Apple devices inside physical frames for iPhone, iPad, Mac, and Apple Watch.', 'score': 0.44376975, 'raw_content': None}], 'response_time': 1.81})]}})\n",
      "----\n",
      "(('web_researcher:f0da72e0-6ca4-c4b2-3b54-acd577e0e1e1',), {'agent': {'messages': [AIMessage(content='### Current CEO of Google\\nThe current CEO of Google is **Sundar Pichai**. He was appointed on October 24, 2015, and later became the CEO of Alphabet on December 3, 2019. For more details, you can refer to the [Wikipedia page on Google](https://en.wikipedia.org/wiki/Google).\\n\\n### FrameNet Representation of Apple\\nThe search results did not provide a specific FrameNet representation of \"Apple.\" However, it seems related to Apple\\'s development frameworks and tools, such as \"Apple Frames,\" which is a shortcut for placing screenshots taken on various Apple devices inside physical frames. For more information, you can check the [Apple Developer documentation](https://developer.apple.com/documentation/realitykit/sampledanimation/frames-2h6tu) or the [MacStories article](https://www.macstories.net/ios/apple-frames-3-0-completely-rewritten-support-for-iphone-14-pro-and-dynamic-island-new-devices-multiple-display-resolutions-and-more/).\\n\\nIf you have a more specific aspect of FrameNet representation in mind, please let me know!', additional_kwargs={'refusal': None}, response_metadata={'token_usage': {'completion_tokens': 234, 'prompt_tokens': 1332, 'total_tokens': 1566, 'completion_tokens_details': {'accepted_prediction_tokens': 0, 'audio_tokens': 0, 'reasoning_tokens': 0, 'rejected_prediction_tokens': 0}, 'prompt_tokens_details': {'audio_tokens': 0, 'cached_tokens': 0}}, 'model_name': 'gpt-4o-mini-2024-07-18', 'system_fingerprint': 'fp_dbaca60df0', 'finish_reason': 'stop', 'logprobs': None}, id='run-e4bf66c4-7050-4586-93b5-ac200f6bcab5-0', usage_metadata={'input_tokens': 1332, 'output_tokens': 234, 'total_tokens': 1566, 'input_token_details': {'audio': 0, 'cache_read': 0}, 'output_token_details': {'audio': 0, 'reasoning': 0}})]}})\n",
      "----\n",
      "((), {'web_researcher': {'messages': [HumanMessage(content='### Current CEO of Google\\nThe current CEO of Google is **Sundar Pichai**. He was appointed on October 24, 2015, and later became the CEO of Alphabet on December 3, 2019. For more details, you can refer to the [Wikipedia page on Google](https://en.wikipedia.org/wiki/Google).\\n\\n### FrameNet Representation of Apple\\nThe search results did not provide a specific FrameNet representation of \"Apple.\" However, it seems related to Apple\\'s development frameworks and tools, such as \"Apple Frames,\" which is a shortcut for placing screenshots taken on various Apple devices inside physical frames. For more information, you can check the [Apple Developer documentation](https://developer.apple.com/documentation/realitykit/sampledanimation/frames-2h6tu) or the [MacStories article](https://www.macstories.net/ios/apple-frames-3-0-completely-rewritten-support-for-iphone-14-pro-and-dynamic-island-new-devices-multiple-display-resolutions-and-more/).\\n\\nIf you have a more specific aspect of FrameNet representation in mind, please let me know!', additional_kwargs={}, response_metadata={}, name='web_researcher')]}})\n",
      "----\n",
      "Next Worker: framenet\n",
      "((), {'supervisor': None})\n",
      "----\n",
      "INSIDE FRAMENET TOOL\n",
      "INSIDE FRAMENET TOOL\n",
      "(('framenet:1f2c7f0f-9c75-e366-1335-8ccc37c024a4',), {'agent': {'messages': [AIMessage(content='', additional_kwargs={'tool_calls': [{'id': 'call_qFlTbIsXSXixHRwVfcs7Knh2', 'function': {'arguments': '{\"a\": \"apple\"}', 'name': 'framenet'}, 'type': 'function'}, {'id': 'call_zI9CGe4Gfmmll8gxRJu5KgiM', 'function': {'arguments': '{\"a\": \"google\"}', 'name': 'framenet'}, 'type': 'function'}], 'refusal': None}, response_metadata={'token_usage': {'completion_tokens': 47, 'prompt_tokens': 306, 'total_tokens': 353, 'completion_tokens_details': {'accepted_prediction_tokens': 0, 'audio_tokens': 0, 'reasoning_tokens': 0, 'rejected_prediction_tokens': 0}, 'prompt_tokens_details': {'audio_tokens': 0, 'cached_tokens': 0}}, 'model_name': 'gpt-4o-mini-2024-07-18', 'system_fingerprint': 'fp_0392822090', 'finish_reason': 'tool_calls', 'logprobs': None}, id='run-27b478cc-8668-43c0-8bed-f5bee330d23c-0', tool_calls=[{'name': 'framenet', 'args': {'a': 'apple'}, 'id': 'call_qFlTbIsXSXixHRwVfcs7Knh2', 'type': 'tool_call'}, {'name': 'framenet', 'args': {'a': 'google'}, 'id': 'call_zI9CGe4Gfmmll8gxRJu5KgiM', 'type': 'tool_call'}], usage_metadata={'input_tokens': 306, 'output_tokens': 47, 'total_tokens': 353, 'input_token_details': {'audio': 0, 'cache_read': 0}, 'output_token_details': {'audio': 0, 'reasoning': 0}})]}})\n",
      "----\n",
      "(('framenet:1f2c7f0f-9c75-e366-1335-8ccc37c024a4',), {'tools': {'messages': [ToolMessage(content='{\"agent\": \"robot\", \"patient\": \"apple\"}', name='framenet', id='35db3d1e-ec7a-4b41-aa35-ba67f1655005', tool_call_id='call_qFlTbIsXSXixHRwVfcs7Knh2'), ToolMessage(content='{\"agent\": \"robot\", \"patient\": \"apple\"}', name='framenet', id='b0e1e19b-1bec-4ae9-805a-61dc4ded860f', tool_call_id='call_zI9CGe4Gfmmll8gxRJu5KgiM')]}})\n",
      "----\n",
      "(('framenet:1f2c7f0f-9c75-e366-1335-8ccc37c024a4',), {'agent': {'messages': [AIMessage(content='The current CEO of Google is **Sundar Pichai**.\\n\\nRegarding the FrameNet representation of \"Apple,\" it appears that the representation is not available in the standard format. However, the term \"apple\" can be associated with various frames, such as a fruit or a brand. If you have a specific context in mind for \"apple,\" please let me know, and I can provide more tailored information.', additional_kwargs={'refusal': None}, response_metadata={'token_usage': {'completion_tokens': 86, 'prompt_tokens': 388, 'total_tokens': 474, 'completion_tokens_details': {'accepted_prediction_tokens': 0, 'audio_tokens': 0, 'reasoning_tokens': 0, 'rejected_prediction_tokens': 0}, 'prompt_tokens_details': {'audio_tokens': 0, 'cached_tokens': 0}}, 'model_name': 'gpt-4o-mini-2024-07-18', 'system_fingerprint': 'fp_0392822090', 'finish_reason': 'stop', 'logprobs': None}, id='run-f714e70c-769b-4ccd-8a06-d06ebe834118-0', usage_metadata={'input_tokens': 388, 'output_tokens': 86, 'total_tokens': 474, 'input_token_details': {'audio': 0, 'cache_read': 0}, 'output_token_details': {'audio': 0, 'reasoning': 0}})]}})\n",
      "----\n",
      "((), {'framenet': {'messages': [HumanMessage(content='The current CEO of Google is **Sundar Pichai**.\\n\\nRegarding the FrameNet representation of \"Apple,\" it appears that the representation is not available in the standard format. However, the term \"apple\" can be associated with various frames, such as a fruit or a brand. If you have a specific context in mind for \"apple,\" please let me know, and I can provide more tailored information.', additional_kwargs={}, response_metadata={}, name='framenet')]}})\n",
      "----\n",
      "Next Worker: FINISH\n",
      "((), {'supervisor': None})\n",
      "----\n"
     ]
    }
   ],
   "execution_count": 11
  },
  {
   "metadata": {
    "ExecuteTime": {
     "end_time": "2025-05-08T11:11:06.144012Z",
     "start_time": "2025-05-08T11:10:57.931129Z"
    }
   },
   "cell_type": "code",
   "source": [
    "# Example: Complex Query Using Multiple Agents\n",
    "input_question = \"who is the ceo of google, what is the framenet representation of apple and how much is 2 times 10\"\n",
    "for s in graph.stream(\n",
    "    {\"messages\": [(\"user\", input_question)]},\n",
    "    subgraphs=True\n",
    "):\n",
    "    print(s)\n",
    "    print(\"----\")\n"
   ],
   "id": "7274ab3752af7aaf",
   "outputs": [
    {
     "name": "stdout",
     "output_type": "stream",
     "text": [
      "Next Worker: mather\n",
      "((), {'supervisor': None})\n",
      "----\n",
      "INSIDE MULTIPLY TOOL\n",
      "(('mather:a2f3414c-c114-d9c3-2034-4579e117e8f3',), {'agent': {'messages': [AIMessage(content='', additional_kwargs={'tool_calls': [{'id': 'call_Zu6DlRfIw9ummqd4iAWKYrpI', 'function': {'arguments': '{\"a\": 2, \"b\": 10}', 'name': 'multiply'}, 'type': 'function'}, {'id': 'call_KNZ1OPmVI7u1F755vXuaAVnl', 'function': {'arguments': '{\"a\": 1, \"b\": 1}', 'name': 'add'}, 'type': 'function'}], 'refusal': None}, response_metadata={'token_usage': {'completion_tokens': 51, 'prompt_tokens': 91, 'total_tokens': 142, 'completion_tokens_details': {'accepted_prediction_tokens': 0, 'audio_tokens': 0, 'reasoning_tokens': 0, 'rejected_prediction_tokens': 0}, 'prompt_tokens_details': {'audio_tokens': 0, 'cached_tokens': 0}}, 'model_name': 'gpt-4o-mini-2024-07-18', 'system_fingerprint': 'fp_0392822090', 'finish_reason': 'tool_calls', 'logprobs': None}, id='run-8d7a77d0-9b5e-4903-9354-541cc3dd3ef6-0', tool_calls=[{'name': 'multiply', 'args': {'a': 2, 'b': 10}, 'id': 'call_Zu6DlRfIw9ummqd4iAWKYrpI', 'type': 'tool_call'}, {'name': 'add', 'args': {'a': 1, 'b': 1}, 'id': 'call_KNZ1OPmVI7u1F755vXuaAVnl', 'type': 'tool_call'}], usage_metadata={'input_tokens': 91, 'output_tokens': 51, 'total_tokens': 142, 'input_token_details': {'audio': 0, 'cache_read': 0}, 'output_token_details': {'audio': 0, 'reasoning': 0}})]}})\n",
      "----\n",
      "INSIDE ADD TOOL\n",
      "(('mather:a2f3414c-c114-d9c3-2034-4579e117e8f3',), {'tools': {'messages': [ToolMessage(content='20.0', name='multiply', tool_call_id='call_Zu6DlRfIw9ummqd4iAWKYrpI'), ToolMessage(content='2.0', name='add', tool_call_id='call_KNZ1OPmVI7u1F755vXuaAVnl')]}})\n",
      "----\n",
      "(('mather:a2f3414c-c114-d9c3-2034-4579e117e8f3',), {'agent': {'messages': [AIMessage(content='The current CEO of Google is Sundar Pichai. \\n\\nThe FrameNet representation of \"apple\" typically includes various frames such as \"Food\" or \"Fruit,\" detailing its attributes, relations, and roles in different contexts. However, for a precise FrameNet representation, you would need to refer to the FrameNet database directly.\\n\\nThe result of 2 times 10 is 20.', additional_kwargs={'refusal': None}, response_metadata={'token_usage': {'completion_tokens': 81, 'prompt_tokens': 161, 'total_tokens': 242, 'completion_tokens_details': {'accepted_prediction_tokens': 0, 'audio_tokens': 0, 'reasoning_tokens': 0, 'rejected_prediction_tokens': 0}, 'prompt_tokens_details': {'audio_tokens': 0, 'cached_tokens': 0}}, 'model_name': 'gpt-4o-mini-2024-07-18', 'system_fingerprint': 'fp_0392822090', 'finish_reason': 'stop', 'logprobs': None}, id='run-a2950235-7cb3-4db2-9ce9-2ba98de8461f-0', usage_metadata={'input_tokens': 161, 'output_tokens': 81, 'total_tokens': 242, 'input_token_details': {'audio': 0, 'cache_read': 0}, 'output_token_details': {'audio': 0, 'reasoning': 0}})]}})\n",
      "----\n",
      "((), {'mather': {'messages': [HumanMessage(content='The current CEO of Google is Sundar Pichai. \\n\\nThe FrameNet representation of \"apple\" typically includes various frames such as \"Food\" or \"Fruit,\" detailing its attributes, relations, and roles in different contexts. However, for a precise FrameNet representation, you would need to refer to the FrameNet database directly.\\n\\nThe result of 2 times 10 is 20.', additional_kwargs={}, response_metadata={}, name='mather')]}})\n",
      "----\n",
      "Next Worker: framenet\n",
      "((), {'supervisor': None})\n",
      "----\n",
      "INSIDE FRAMENET TOOL\n",
      "INSIDE FRAMENET TOOL\n",
      "(('framenet:57c3905f-59c1-4af7-0665-35e22dd6c1ab',), {'agent': {'messages': [AIMessage(content='', additional_kwargs={'tool_calls': [{'id': 'call_sAEcZaz8e2KyvUQSF9W1pzb0', 'function': {'arguments': '{\"a\": \"apple\"}', 'name': 'framenet'}, 'type': 'function'}, {'id': 'call_qFzuztGYP4MNp1YNBPodJyLj', 'function': {'arguments': '{\"a\": \"2 times 10\"}', 'name': 'framenet'}, 'type': 'function'}], 'refusal': None}, response_metadata={'token_usage': {'completion_tokens': 50, 'prompt_tokens': 160, 'total_tokens': 210, 'completion_tokens_details': {'accepted_prediction_tokens': 0, 'audio_tokens': 0, 'reasoning_tokens': 0, 'rejected_prediction_tokens': 0}, 'prompt_tokens_details': {'audio_tokens': 0, 'cached_tokens': 0}}, 'model_name': 'gpt-4o-mini-2024-07-18', 'system_fingerprint': 'fp_0392822090', 'finish_reason': 'tool_calls', 'logprobs': None}, id='run-38d13353-46b5-4252-a9c4-4342ccbe2ce5-0', tool_calls=[{'name': 'framenet', 'args': {'a': 'apple'}, 'id': 'call_sAEcZaz8e2KyvUQSF9W1pzb0', 'type': 'tool_call'}, {'name': 'framenet', 'args': {'a': '2 times 10'}, 'id': 'call_qFzuztGYP4MNp1YNBPodJyLj', 'type': 'tool_call'}], usage_metadata={'input_tokens': 160, 'output_tokens': 50, 'total_tokens': 210, 'input_token_details': {'audio': 0, 'cache_read': 0}, 'output_token_details': {'audio': 0, 'reasoning': 0}})]}})\n",
      "----\n",
      "(('framenet:57c3905f-59c1-4af7-0665-35e22dd6c1ab',), {'tools': {'messages': [ToolMessage(content='{\"agent\": \"robot\", \"patient\": \"apple\"}', name='framenet', id='782c2b7c-a48f-4525-a85a-1c171abb98a5', tool_call_id='call_sAEcZaz8e2KyvUQSF9W1pzb0'), ToolMessage(content='{\"agent\": \"robot\", \"patient\": \"apple\"}', name='framenet', id='ae9ad082-d500-4a55-9226-ff5701373cd9', tool_call_id='call_qFzuztGYP4MNp1YNBPodJyLj')]}})\n",
      "----\n",
      "(('framenet:57c3905f-59c1-4af7-0665-35e22dd6c1ab',), {'agent': {'messages': [AIMessage(content='The current CEO of Google is Sundar Pichai.\\n\\nThe FrameNet representation of \"apple\" includes the following roles:\\n- **Agent**: robot\\n- **Patient**: apple\\n\\nThe result of 2 times 10 is 20.', additional_kwargs={'refusal': None}, response_metadata={'token_usage': {'completion_tokens': 53, 'prompt_tokens': 245, 'total_tokens': 298, 'completion_tokens_details': {'accepted_prediction_tokens': 0, 'audio_tokens': 0, 'reasoning_tokens': 0, 'rejected_prediction_tokens': 0}, 'prompt_tokens_details': {'audio_tokens': 0, 'cached_tokens': 0}}, 'model_name': 'gpt-4o-mini-2024-07-18', 'system_fingerprint': 'fp_0392822090', 'finish_reason': 'stop', 'logprobs': None}, id='run-8bcfd24c-24b0-4219-918d-23102c6490e6-0', usage_metadata={'input_tokens': 245, 'output_tokens': 53, 'total_tokens': 298, 'input_token_details': {'audio': 0, 'cache_read': 0}, 'output_token_details': {'audio': 0, 'reasoning': 0}})]}})\n",
      "----\n",
      "((), {'framenet': {'messages': [HumanMessage(content='The current CEO of Google is Sundar Pichai.\\n\\nThe FrameNet representation of \"apple\" includes the following roles:\\n- **Agent**: robot\\n- **Patient**: apple\\n\\nThe result of 2 times 10 is 20.', additional_kwargs={}, response_metadata={}, name='framenet')]}})\n",
      "----\n",
      "Next Worker: FINISH\n",
      "((), {'supervisor': None})\n",
      "----\n"
     ]
    }
   ],
   "execution_count": 12
  },
  {
   "metadata": {},
   "cell_type": "code",
   "outputs": [],
   "execution_count": null,
   "source": "",
   "id": "2825af4ebf5c983f"
  }
 ],
 "metadata": {
  "kernelspec": {
   "display_name": "Python 3",
   "language": "python",
   "name": "python3"
  },
  "language_info": {
   "codemirror_mode": {
    "name": "ipython",
    "version": 2
   },
   "file_extension": ".py",
   "mimetype": "text/x-python",
   "name": "python",
   "nbconvert_exporter": "python",
   "pygments_lexer": "ipython2",
   "version": "2.7.6"
  }
 },
 "nbformat": 4,
 "nbformat_minor": 5
}
