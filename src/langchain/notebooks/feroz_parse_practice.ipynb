{
 "cells": [
  {
   "metadata": {
    "ExecuteTime": {
     "end_time": "2025-06-17T14:16:04.954206Z",
     "start_time": "2025-06-17T14:16:04.654526Z"
    }
   },
   "cell_type": "code",
   "source": [
    "import json\n",
    "from src.resources.integration.fparser_python import *\n",
    "from src.resources.integration.fparser import *\n",
    "from src.flasking.sending_windows import *"
   ],
   "id": "90bcfe7a4e1e0888",
   "outputs": [],
   "execution_count": 1
  },
  {
   "metadata": {
    "ExecuteTime": {
     "end_time": "2025-06-17T14:16:04.968029Z",
     "start_time": "2025-06-17T14:16:04.957953Z"
    }
   },
   "cell_type": "code",
   "source": [
    "from pathlib import Path\n",
    "with open(\"./feroz_context.txt\", 'r') as f:\n",
    "    context = f.read()"
   ],
   "id": "db29dc73a94fddfe",
   "outputs": [],
   "execution_count": 2
  },
  {
   "metadata": {
    "ExecuteTime": {
     "end_time": "2025-06-17T14:16:05.035704Z",
     "start_time": "2025-06-17T14:16:05.034138Z"
    }
   },
   "cell_type": "code",
   "source": "summary = parse_summary_data(context)",
   "id": "b0a73f45a2132ef1",
   "outputs": [],
   "execution_count": 3
  },
  {
   "metadata": {
    "ExecuteTime": {
     "end_time": "2025-06-17T14:16:05.090408Z",
     "start_time": "2025-06-17T14:16:05.088067Z"
    }
   },
   "cell_type": "code",
   "source": "segments = parse_segment_data(context)",
   "id": "7c3d3ed1c5ba3e43",
   "outputs": [],
   "execution_count": 4
  },
  {
   "metadata": {
    "ExecuteTime": {
     "end_time": "2025-06-17T14:16:05.169383Z",
     "start_time": "2025-06-17T14:16:05.167574Z"
    }
   },
   "cell_type": "code",
   "source": "# segments",
   "id": "98bc73a8f5d6f79e",
   "outputs": [],
   "execution_count": 5
  },
  {
   "metadata": {
    "ExecuteTime": {
     "end_time": "2025-06-17T14:16:05.214673Z",
     "start_time": "2025-06-17T14:16:05.213336Z"
    }
   },
   "cell_type": "code",
   "source": "filtered_segments = filter_redundant_actions(segments)",
   "id": "6b182f40a1cd138a",
   "outputs": [],
   "execution_count": 6
  },
  {
   "metadata": {
    "ExecuteTime": {
     "end_time": "2025-06-17T14:16:05.263166Z",
     "start_time": "2025-06-17T14:16:05.261764Z"
    }
   },
   "cell_type": "code",
   "source": "final_unique_segments = filter_redundant_executed_actions(filtered_segments)",
   "id": "8025a5dd94510bb0",
   "outputs": [],
   "execution_count": 7
  },
  {
   "metadata": {
    "ExecuteTime": {
     "end_time": "2025-06-17T14:16:05.312657Z",
     "start_time": "2025-06-17T14:16:05.310454Z"
    }
   },
   "cell_type": "code",
   "source": "chain = decomposer_prompt | ollama_llm.with_structured_output(AtomicsModel, method=\"json_schema\")",
   "id": "72276efba0169e3e",
   "outputs": [],
   "execution_count": 8
  },
  {
   "metadata": {
    "ExecuteTime": {
     "end_time": "2025-06-17T14:16:14.123971Z",
     "start_time": "2025-06-17T14:16:06.825833Z"
    }
   },
   "cell_type": "code",
   "source": "final_parse = decompose_segments_with_atomic_actions(chain, final_unique_segments)",
   "id": "f133f1ebba500dd0",
   "outputs": [],
   "execution_count": 9
  },
  {
   "metadata": {
    "ExecuteTime": {
     "end_time": "2025-06-17T14:16:19.760733Z",
     "start_time": "2025-06-17T14:16:19.451983Z"
    }
   },
   "cell_type": "code",
   "source": "from src.langchain.agents.enhanced_ad_agent import *",
   "id": "fed64525d7c89cf8",
   "outputs": [
    {
     "name": "stdout",
     "output_type": "stream",
     "text": [
      "Trying OLLAMA model 8b\n",
      "OLLAMA model found\n"
     ]
    }
   ],
   "execution_count": 10
  },
  {
   "metadata": {
    "ExecuteTime": {
     "end_time": "2025-06-17T14:16:20.650988Z",
     "start_time": "2025-06-17T14:16:20.645654Z"
    }
   },
   "cell_type": "code",
   "source": [
    "instruction = final_parse[0]['instruction']\n",
    "ad = final_parse[0]['action_designator']"
   ],
   "id": "6c530383540e6222",
   "outputs": [],
   "execution_count": 11
  },
  {
   "metadata": {
    "ExecuteTime": {
     "end_time": "2025-06-17T14:16:21.271115Z",
     "start_time": "2025-06-17T14:16:21.265049Z"
    }
   },
   "cell_type": "code",
   "source": "ad",
   "id": "c70e501edc57cb16",
   "outputs": [
    {
     "data": {
      "text/plain": [
       "{'component_id': 'onion_01',\n",
       " 'component_information': {'name': 'onion',\n",
       "  'id_number': '01',\n",
       "  'component_type': 'food_item',\n",
       "  'shape': 'spherical',\n",
       "  'size': 'medium',\n",
       "  'handle': 'no',\n",
       "  'orientation': 'upright',\n",
       "  'weight': 1},\n",
       " 'executed_action': {'primary_action': {'action_name': 'picking_up',\n",
       "   'hand': 'right_hand'},\n",
       "  'secondary_action': {'action_name': 'placing', 'hand': 'right_hand'}},\n",
       " 'grasp_descriptor': {'grasp_type': 'spherical',\n",
       "  'contact_points': 'three_fingers',\n",
       "  'holding_type': 'one_handed',\n",
       "  'hand_orientation': 'top_to_bottom'},\n",
       " 'environmental_factors': {'surface_conditions': 'flat_surfaces'}}"
      ]
     },
     "execution_count": 12,
     "metadata": {},
     "output_type": "execute_result"
    }
   ],
   "execution_count": 12
  },
  {
   "metadata": {
    "ExecuteTime": {
     "end_time": "2025-06-17T14:16:22.915222Z",
     "start_time": "2025-06-17T14:16:22.912092Z"
    }
   },
   "cell_type": "code",
   "source": "graph_output = []",
   "id": "5843c75fb87deac9",
   "outputs": [],
   "execution_count": 13
  },
  {
   "metadata": {
    "ExecuteTime": {
     "end_time": "2025-06-17T14:16:26.821926Z",
     "start_time": "2025-06-17T14:16:26.820391Z"
    }
   },
   "cell_type": "code",
   "source": "final_parse_filtered = [final_parse[0]]",
   "id": "a76d43c8dabb569a",
   "outputs": [],
   "execution_count": 14
  },
  {
   "metadata": {
    "ExecuteTime": {
     "end_time": "2025-06-17T14:16:27.485783Z",
     "start_time": "2025-06-17T14:16:27.482362Z"
    }
   },
   "cell_type": "code",
   "source": "# final_parse[4]",
   "id": "401d225790834d2",
   "outputs": [],
   "execution_count": 15
  },
  {
   "metadata": {
    "ExecuteTime": {
     "end_time": "2025-06-17T14:16:27.919313Z",
     "start_time": "2025-06-17T14:16:27.914810Z"
    }
   },
   "cell_type": "code",
   "source": "final_parse_filtered",
   "id": "6c1ad5a7e6755948",
   "outputs": [
    {
     "data": {
      "text/plain": [
       "[{'instruction': 'Pick up a brown onion.',\n",
       "  'action_designator': {'component_id': 'onion_01',\n",
       "   'component_information': {'name': 'onion',\n",
       "    'id_number': '01',\n",
       "    'component_type': 'food_item',\n",
       "    'shape': 'spherical',\n",
       "    'size': 'medium',\n",
       "    'handle': 'no',\n",
       "    'orientation': 'upright',\n",
       "    'weight': 1},\n",
       "   'executed_action': {'primary_action': {'action_name': 'picking_up',\n",
       "     'hand': 'right_hand'},\n",
       "    'secondary_action': {'action_name': 'placing', 'hand': 'right_hand'}},\n",
       "   'grasp_descriptor': {'grasp_type': 'spherical',\n",
       "    'contact_points': 'three_fingers',\n",
       "    'holding_type': 'one_handed',\n",
       "    'hand_orientation': 'top_to_bottom'},\n",
       "   'environmental_factors': {'surface_conditions': 'flat_surfaces'}}}]"
      ]
     },
     "execution_count": 16,
     "metadata": {},
     "output_type": "execute_result"
    }
   ],
   "execution_count": 16
  },
  {
   "metadata": {
    "ExecuteTime": {
     "end_time": "2025-06-17T14:16:36.923928Z",
     "start_time": "2025-06-17T14:16:29.857478Z"
    }
   },
   "cell_type": "code",
   "source": [
    "for fp in final_parse_filtered:\n",
    "    instruction = fp['instruction']\n",
    "    ad = fp['action_designator']\n",
    "    out = ad_graph.invoke({'instruction': instruction, 'context': ad})\n",
    "    graph_output.append(out)"
   ],
   "id": "f34260d98b7e33ae",
   "outputs": [
    {
     "name": "stdout",
     "output_type": "stream",
     "text": [
      "INSIDE ACTION NODE\n",
      "type={'action': 'PickingUp'}\n",
      "['PickingUp']\n",
      "INSIDE UNIVERSAL NODE\n",
      "cram_plan (perform (an action (type grab-object) (an object (type {obj_to_be_grabbed}){obj_to_be_grabbed_props}) (source (a location (on {location}){location_props}))))\n",
      "----------\n",
      "{\n",
      "  \"obj_to_be_grabbed\": \"a brown onion\",\n",
      "  \"action_verb\": \"Pick up\",\n",
      "  \"location\": null\n",
      "}\n",
      "----------\n",
      "fCONTEXT {'component_id': 'onion_01', 'component_information': {'name': 'onion', 'id_number': '01', 'component_type': 'food_item', 'shape': 'spherical', 'size': 'medium', 'handle': 'no', 'orientation': 'upright', 'weight': 1}, 'executed_action': {'primary_action': {'action_name': 'picking_up', 'hand': 'right_hand'}, 'secondary_action': {'action_name': 'placing', 'hand': 'right_hand'}}, 'grasp_descriptor': {'grasp_type': 'spherical', 'contact_points': 'three_fingers', 'holding_type': 'one_handed', 'hand_orientation': 'top_to_bottom'}, 'environmental_factors': {'surface_conditions': 'flat_surfaces'}}\n",
      "{\n",
      "  \"action_verb\": \"Pick up\",\n",
      "  \"obj_to_be_grabbed\": \"a brown onion\",\n",
      "  \"obj_to_be_grabbed_props\": {\n",
      "    \"color\": \"brown\",\n",
      "    \"shape\": \"spherical\",\n",
      "    \"size\": \"medium\",\n",
      "    \"weight\": \"light\",\n",
      "    \"texture\": \"smooth\",\n",
      "    \"freshness\": \"fresh\",\n",
      "    \"intactness\": \"intact\"\n",
      "  },\n",
      "  \"location\": null\n",
      "}\n",
      "----------\n",
      "(perform (an action (type grab-object) (an object (type a brown onion) (color brown) (shape spherical) (size medium) (weight light) (texture smooth) (freshness fresh) (intactness intact))))\n",
      "----------\n"
     ]
    }
   ],
   "execution_count": 17
  },
  {
   "metadata": {
    "ExecuteTime": {
     "end_time": "2025-06-17T14:16:38.499526Z",
     "start_time": "2025-06-17T14:16:38.462858Z"
    }
   },
   "cell_type": "code",
   "source": [
    "for seg in segments:\n",
    "    print(\"📡 Sending test data to 1st window...\")\n",
    "    send_data_to_window(1, seg)"
   ],
   "id": "fb9ea5e4da4450c5",
   "outputs": [
    {
     "name": "stdout",
     "output_type": "stream",
     "text": [
      "📡 Sending test data to 1st window...\n",
      "✅ Data sent to Window 1: {'status': 'success', 'window': 'window1'}\n",
      "📡 Sending test data to 1st window...\n",
      "✅ Data sent to Window 1: {'status': 'success', 'window': 'window1'}\n",
      "📡 Sending test data to 1st window...\n",
      "✅ Data sent to Window 1: {'status': 'success', 'window': 'window1'}\n",
      "📡 Sending test data to 1st window...\n",
      "✅ Data sent to Window 1: {'status': 'success', 'window': 'window1'}\n",
      "📡 Sending test data to 1st window...\n",
      "✅ Data sent to Window 1: {'status': 'success', 'window': 'window1'}\n",
      "📡 Sending test data to 1st window...\n",
      "✅ Data sent to Window 1: {'status': 'success', 'window': 'window1'}\n",
      "📡 Sending test data to 1st window...\n",
      "✅ Data sent to Window 1: {'status': 'success', 'window': 'window1'}\n",
      "📡 Sending test data to 1st window...\n",
      "✅ Data sent to Window 1: {'status': 'success', 'window': 'window1'}\n",
      "📡 Sending test data to 1st window...\n",
      "✅ Data sent to Window 1: {'status': 'success', 'window': 'window1'}\n",
      "📡 Sending test data to 1st window...\n",
      "✅ Data sent to Window 1: {'status': 'success', 'window': 'window1'}\n",
      "📡 Sending test data to 1st window...\n",
      "✅ Data sent to Window 1: {'status': 'success', 'window': 'window1'}\n"
     ]
    }
   ],
   "execution_count": 18
  },
  {
   "metadata": {},
   "cell_type": "code",
   "source": [
    "for par in final_parse:\n",
    "    print(\"📡 Sending test data to 2nd window...\")\n",
    "    send_data_to_window(2, par)"
   ],
   "id": "9e12ad4876caa4ed",
   "outputs": [],
   "execution_count": null
  },
  {
   "metadata": {
    "ExecuteTime": {
     "end_time": "2025-06-15T16:31:14.679005Z",
     "start_time": "2025-06-15T16:31:14.676587Z"
    }
   },
   "cell_type": "code",
   "source": "# graph_output",
   "id": "2966cda1256dc12c",
   "outputs": [],
   "execution_count": 28
  },
  {
   "metadata": {
    "ExecuteTime": {
     "end_time": "2025-06-15T17:11:59.905387Z",
     "start_time": "2025-06-15T17:11:57.851171Z"
    }
   },
   "cell_type": "code",
   "source": [
    "for out in graph_output:\n",
    "    print(\"<UNK> Sending test data to 3rd window...\")\n",
    "    new_out = {}\n",
    "    try:\n",
    "        new_out['instruction'] = out['instruction']\n",
    "        new_out['action_core'] = out['action_core']\n",
    "        new_out['action_core_attributes'] = out['action_core_attributes']\n",
    "        new_out['enriched_action_core_attributes'] = json.loads(out['enriched_action_core_attributes'])\n",
    "        new_out['cram_plan'] = out['cram_plan_response']\n",
    "        print(\"Parsed output normally\")\n",
    "    except:\n",
    "        new_out['instruction'] = out['instruction']\n",
    "        new_out['action_core'] = out['action_core']\n",
    "        new_out['action_core_attributes'] = out['action_core_attributes']\n",
    "        new_out['enriched_action_core_attributes'] = out['enriched_action_core_attributes']\n",
    "        new_out['cram_plan'] = out['cram_plan_response']\n",
    "        print(\"Parsed output with strings\")\n",
    "\n",
    "    send_data_to_window(3, new_out)"
   ],
   "id": "f5102aba54eaf85f",
   "outputs": [
    {
     "name": "stdout",
     "output_type": "stream",
     "text": [
      "<UNK> Sending test data to 3rd window...\n",
      "Parsed output normally\n",
      "✅ Data sent to Window 3: {'status': 'success', 'window': 'window3'}\n"
     ]
    }
   ],
   "execution_count": 101
  },
  {
   "metadata": {
    "ExecuteTime": {
     "end_time": "2025-06-15T17:12:02.298192Z",
     "start_time": "2025-06-15T17:12:02.295146Z"
    }
   },
   "cell_type": "code",
   "source": [
    "from src.langchain.models_graph import *\n",
    "config = {\"configurable\" : {\"thread_id\" : 1}}"
   ],
   "id": "55858c987707fe2e",
   "outputs": [],
   "execution_count": 102
  },
  {
   "metadata": {
    "ExecuteTime": {
     "end_time": "2025-06-15T17:12:02.890392Z",
     "start_time": "2025-06-15T17:12:02.888Z"
    }
   },
   "cell_type": "code",
   "source": [
    "framenet_model = \"\"\n",
    "flanagan = \"\""
   ],
   "id": "9b5e53c8398bd24b",
   "outputs": [],
   "execution_count": 103
  },
  {
   "metadata": {
    "ExecuteTime": {
     "end_time": "2025-06-15T17:12:03.278189Z",
     "start_time": "2025-06-15T17:12:03.274191Z"
    }
   },
   "cell_type": "code",
   "source": "len(graph_output)",
   "id": "85a3e35286c70c51",
   "outputs": [
    {
     "data": {
      "text/plain": [
       "1"
      ]
     },
     "execution_count": 104,
     "metadata": {},
     "output_type": "execute_result"
    }
   ],
   "execution_count": 104
  },
  {
   "metadata": {
    "ExecuteTime": {
     "end_time": "2025-06-15T17:13:31.734914Z",
     "start_time": "2025-06-15T17:12:04.812094Z"
    }
   },
   "cell_type": "code",
   "source": [
    "for out in graph_output:\n",
    "    print(\"<UNK> Sending test data to 4th window...\")\n",
    "    instruction = out['instruction']\n",
    "    action_core = out['action_core']\n",
    "    action_core_attributes = out['action_core_attributes']\n",
    "    enriched_action_core_attributes = json.loads(out['enriched_action_core_attributes'])\n",
    "    cram_plan = out['cram_plan_response']\n",
    "    final_graph_state = model_graph.invoke({\"instruction\": instruction,\n",
    "                                                 \"action_core\": action_core,\n",
    "                                                 \"enriched_action_core_attributes\": enriched_action_core_attributes,\n",
    "                                                 \"cram_plan_response\": cram_plan},config=config, stream_mode=\"updates\")\n",
    "    flanagan = model_graph.get_state(config).values[\"flanagan\"]\n",
    "    framenet_model = model_graph.get_state(config).values[\"framenet_model\"]\n",
    "    new_out = {}\n",
    "    try:\n",
    "        flanagan_json = json.loads(flanagan)\n",
    "        framenet_model_json = json.loads(framenet_model)\n",
    "        print(\"Parsed models output normally\")\n",
    "        new_out = {\n",
    "            \"framenet\" : framenet_model_json,\n",
    "            \"flanagan\" : flanagan_json\n",
    "        }\n",
    "    except:\n",
    "        print(\"Parsed models output with strings\")\n",
    "        new_out = {\n",
    "            \"framenet\" : framenet_model,\n",
    "            \"flanagan\" : flanagan\n",
    "        }\n",
    "\n",
    "    send_data_to_window(4, new_out)"
   ],
   "id": "d4255063914fac8e",
   "outputs": [
    {
     "name": "stdout",
     "output_type": "stream",
     "text": [
      "<UNK> Sending test data to 4th window...\n",
      "INSIDE flanagan PREMOTION TOOL\n",
      "INSIDE FRAMENET NODE\n",
      "goal_definition=GoalDefinition(task='Peeling brown onion', semantic_annotation='TaskClass:Manipulation.Cutting', object=ObjectModel(id='brown_onion_01', type='PhysicalArtifact', properties=ObjectProperties(size=None, texture='smooth', material=None, fill_level=None, contents=None, hardness=None, friction_coefficient=None, elasticity=None, strain_limit=1000000000000000.0), expected_end_state=GoalState(conditions={'is_peeled': {'state': True}})), target=None, tool=ToolModel(id='knife_main', type='Tool', properties={'material': 'metal', 'edge': 'sharp', 'handle': 'single', 'position': 'on', 'surface': 'wooden', 'orientation': 'upright'})) predictive_model=PredictiveModel(expected_trajectory='StandardCuttingApproach', expected_force={'initial_N': 2.0, 'resistance_range_N': [1.5, 3.0]}, confidence_level=0.95, affordance_model={'tool_affords_cutting': True, 'object_affords_being_cut': True}) motion_planning=MotionPlanning(planned_trajectory='DirectPathToObject', obstacle_avoidance='ReactiveSensorBased', energy_efficiency='Balanced')\n",
      "INSIDE flanagan PHASER TOOL\n",
      "task='Peeling brown onion' initiation_phase=InitialPhase(initial_state=InitialState(robot_pose={'arm': [1.5708, 0.0, 0.0], 'gripper': [0.5, 0.0, 0.0]}, tool_position=[0.8, 0.3, 0.5], target_object_position=[0.6, 0.5, 0.5]), motion_initialization=MotionInitialization(joint_activation={'arm': 1.0, 'gripper': 1.0}, velocity_profile='linear', motion_priming={'approach': False, 'retract': False}), SubPhases=[SubPhase(name='ReachForTool', description='Move end-effector to the knife on the wooden cutting board.', goalState=[GoalState(conditions={'ToolState': {'knife_main.IsInRange': True}})]), SubPhase(name='GraspTool', description='Grasp the knife with the gripper.', goalState=[GoalState(conditions={'ToolState': {'knife_main.IsHeld': True}})])], SymbolicGoals=[GoalState(conditions={'goal': {'ToolAcquired': True}})], SemanticAnnotation='PhaseClass:Initiation') execution_phase=Phase(SubPhases=[SubPhase(name='ApproachObjectWithTool', description='Move the knife to the position above the brown onion.', goalState=[GoalState(conditions={'ObjectState': {'brown_onion_01.IsInRange': True}})]), SubPhase(name='AlignToolForCut', description=\"Align the knife edge with the onion's surface.\", goalState=[GoalState(conditions={'ToolState': {'knife_main.IsAligned': True}})])], SymbolicGoals=[GoalState(conditions={'goal': {'ReadyToInteract': True}})], SemanticAnnotation='PhaseClass:Execution') interaction_phase=Phase(SubPhases=[SubPhase(name='PerformPeel', description=\"Apply force with the knife to peel the onion's skin.\", goalState=[GoalState(conditions={'ObjectState': {'brown_onion_01.IsPeeled': True}})])], SymbolicGoals=[GoalState(conditions={'goal': {'ObjectStateModified': True}})], SemanticAnnotation='PhaseClass:Interaction') termination_phase=Phase(SubPhases=[SubPhase(name='RetractTool', description='Lift the knife away from the peeled onion.', goalState=[GoalState(conditions={'ToolState': {'knife_main.IsClear': True}})]), SubPhase(name='ReleaseTool', description='Place the knife back on the cutting board and release the grip.', goalState=[GoalState(conditions={'ToolState': {'knife_main.IsHeld': False}})])], SymbolicGoals=[GoalState(conditions={'goal': {'InteractionComplete': True}})], SemanticAnnotation='PhaseClass:Termination') post_motion_phase=Phase(SubPhases=[SubPhase(name='ReturnToHome', description='Move the end-effector to a neutral home position.', goalState=[GoalState(conditions={'RobotState': {'arm.IsAtHome': True}})]), SubPhase(name='UpdateWorldModel', description='Update the knowledge base with the new state of the onion.', goalState=[GoalState(conditions={'SystemState': {'KnowledgeBase.IsUpdated': True}})])], SymbolicGoals=[GoalState(conditions={'goal': {'TaskComplete': True}})], SemanticAnnotation='PhaseClass:PostMotion')\n",
      "INSIDE flanagan REPR\n",
      "task='Peeling brown onion' pre_motion_phase=FullPhase(goal_definition=GoalDefinition(task='Peeling brown onion', semantic_annotation='TaskClass:Manipulation.Cutting', object=ObjectModel(id='brown_onion_01', type='PhysicalArtifact', properties=ObjectProperties(size=None, texture='smooth', material=None, fill_level=None, contents=None, hardness=None, friction_coefficient=None, elasticity=None, strain_limit=1000000000000000.0), expected_end_state=GoalState(conditions={'is_peeled': {'state': True}})), target=None, tool=ToolModel(id='knife_main', type='Tool', properties={'material': 'metal', 'edge': 'sharp', 'handle': 'single', 'position': 'on', 'surface': 'wooden', 'orientation': 'upright'})), predictive_model=PredictiveModel(expected_trajectory='StandardCuttingApproach', expected_force={'initial_N': 2.0, 'resistance_range_N': [1.5, 3.0]}, confidence_level=0.95, affordance_model={'tool_affords_cutting': True, 'object_affords_being_cut': True}), motion_planning=MotionPlanning(planned_trajectory='DirectPathToObject', obstacle_avoidance='ReactiveSensorBased', energy_efficiency='Balanced')) initiation_phase=InitialPhase(initial_state=InitialState(robot_pose={'arm': [1.5708, 0.0, 0.0], 'gripper': [0.5, 0.0, 0.0]}, tool_position=[0.8, 0.3, 0.5], target_object_position=[0.6, 0.5, 0.5]), motion_initialization=MotionInitialization(joint_activation={'arm': 1.0, 'gripper': 1.0}, velocity_profile='linear', motion_priming={'approach': False, 'retract': False}), SubPhases=[SubPhase(name='ReachForTool', description='Move end-effector to the knife on the wooden cutting board.', goalState=[GoalState(conditions={'ToolState': {'knife_main.IsInRange': True}})]), SubPhase(name='GraspTool', description='Grasp the knife with the gripper.', goalState=[GoalState(conditions={'ToolState': {'knife_main.IsHeld': True}})])], SymbolicGoals=[GoalState(conditions={'goal': {'ToolAcquired': True}})], SemanticAnnotation='PhaseClass:Initiation') execution_phase=Phase(SubPhases=[SubPhase(name='ApproachObjectWithTool', description='Move the knife to the position above the brown onion.', goalState=[GoalState(conditions={'ObjectState': {'brown_onion_01.IsInRange': True}})]), SubPhase(name='AlignToolForCut', description=\"Align the knife edge with the onion's surface.\", goalState=[GoalState(conditions={'ToolState': {'knife_main.IsAligned': True}})])], SymbolicGoals=[GoalState(conditions={'goal': {'ReadyToInteract': True}})], SemanticAnnotation='PhaseClass:Execution') interaction_phase=Phase(SubPhases=[SubPhase(name='PerformPeel', description=\"Apply force with the knife to peel the onion's skin.\", goalState=[GoalState(conditions={'ObjectState': {'brown_onion_01.IsPeeled': True}})])], SymbolicGoals=[GoalState(conditions={'goal': {'ObjectStateModified': True}})], SemanticAnnotation='PhaseClass:Interaction') termination_phase=Phase(SubPhases=[SubPhase(name='RetractTool', description='Lift the knife away from the peeled onion.', goalState=[GoalState(conditions={'ToolState': {'knife_main.IsClear': True}})]), SubPhase(name='ReleaseTool', description='Place the knife back on the cutting board and release the grip.', goalState=[GoalState(conditions={'ToolState': {'knife_main.IsHeld': False}})])], SymbolicGoals=[GoalState(conditions={'goal': {'InteractionComplete': True}})], SemanticAnnotation='PhaseClass:Termination') post_motion_phase=Phase(SubPhases=[SubPhase(name='ReturnToHome', description='Move the end-effector to a neutral home position.', goalState=[GoalState(conditions={'RobotState': {'arm.IsAtHome': True}})]), SubPhase(name='UpdateWorldModel', description='Update the knowledge base with the new state of the onion.', goalState=[GoalState(conditions={'SystemState': {'KnowledgeBase.IsUpdated': True}})])], SymbolicGoals=[GoalState(conditions={'goal': {'TaskComplete': True}}), GoalState(conditions={'goal': {'TaskComplete': True}})], SemanticAnnotation='PhaseClass:PostMotion')\n",
      "Parsed models output normally\n",
      "✅ Data sent to Window 4: {'status': 'success', 'window': 'window4'}\n"
     ]
    }
   ],
   "execution_count": 105
  },
  {
   "metadata": {
    "ExecuteTime": {
     "end_time": "2025-06-15T17:14:36.272856Z",
     "start_time": "2025-06-15T17:14:36.269744Z"
    }
   },
   "cell_type": "code",
   "source": "print(flanagan)",
   "id": "859e0e863f263be7",
   "outputs": [
    {
     "name": "stdout",
     "output_type": "stream",
     "text": [
      "{\n",
      "  \"task\": \"Peeling brown onion\",\n",
      "  \"pre_motion_phase\": {\n",
      "    \"goal_definition\": {\n",
      "      \"task\": \"Peeling brown onion\",\n",
      "      \"semantic_annotation\": \"TaskClass:Manipulation.Cutting\",\n",
      "      \"object\": {\n",
      "        \"id\": \"brown_onion_01\",\n",
      "        \"type\": \"PhysicalArtifact\",\n",
      "        \"properties\": {\n",
      "          \"size\": null,\n",
      "          \"texture\": \"smooth\",\n",
      "          \"material\": null,\n",
      "          \"fill_level\": null,\n",
      "          \"contents\": null,\n",
      "          \"hardness\": null,\n",
      "          \"friction_coefficient\": null,\n",
      "          \"elasticity\": null,\n",
      "          \"strain_limit\": 1000000000000000.0\n",
      "        },\n",
      "        \"expected_end_state\": {\n",
      "          \"conditions\": {\n",
      "            \"is_peeled\": {\n",
      "              \"state\": true\n",
      "            }\n",
      "          }\n",
      "        }\n",
      "      },\n",
      "      \"target\": null,\n",
      "      \"tool\": {\n",
      "        \"id\": \"knife_main\",\n",
      "        \"type\": \"Tool\",\n",
      "        \"properties\": {\n",
      "          \"material\": \"metal\",\n",
      "          \"edge\": \"sharp\",\n",
      "          \"handle\": \"single\",\n",
      "          \"position\": \"on\",\n",
      "          \"surface\": \"wooden\",\n",
      "          \"orientation\": \"upright\"\n",
      "        }\n",
      "      }\n",
      "    },\n",
      "    \"predictive_model\": {\n",
      "      \"expected_trajectory\": \"StandardCuttingApproach\",\n",
      "      \"expected_force\": {\n",
      "        \"initial_N\": 2.0,\n",
      "        \"resistance_range_N\": [\n",
      "          1.5,\n",
      "          3.0\n",
      "        ]\n",
      "      },\n",
      "      \"confidence_level\": 0.95,\n",
      "      \"affordance_model\": {\n",
      "        \"tool_affords_cutting\": true,\n",
      "        \"object_affords_being_cut\": true\n",
      "      }\n",
      "    },\n",
      "    \"motion_planning\": {\n",
      "      \"planned_trajectory\": \"DirectPathToObject\",\n",
      "      \"obstacle_avoidance\": \"ReactiveSensorBased\",\n",
      "      \"energy_efficiency\": \"Balanced\"\n",
      "    }\n",
      "  },\n",
      "  \"initiation_phase\": {\n",
      "    \"initial_state\": {\n",
      "      \"robot_pose\": {\n",
      "        \"arm\": [\n",
      "          1.5708,\n",
      "          0.0,\n",
      "          0.0\n",
      "        ],\n",
      "        \"gripper\": [\n",
      "          0.5,\n",
      "          0.0,\n",
      "          0.0\n",
      "        ]\n",
      "      },\n",
      "      \"tool_position\": [\n",
      "        0.8,\n",
      "        0.3,\n",
      "        0.5\n",
      "      ],\n",
      "      \"target_object_position\": [\n",
      "        0.6,\n",
      "        0.5,\n",
      "        0.5\n",
      "      ]\n",
      "    },\n",
      "    \"motion_initialization\": {\n",
      "      \"joint_activation\": {\n",
      "        \"arm\": 1.0,\n",
      "        \"gripper\": 1.0\n",
      "      },\n",
      "      \"velocity_profile\": \"linear\",\n",
      "      \"motion_priming\": {\n",
      "        \"approach\": false,\n",
      "        \"retract\": false\n",
      "      }\n",
      "    },\n",
      "    \"SubPhases\": [\n",
      "      {\n",
      "        \"name\": \"ReachForTool\",\n",
      "        \"description\": \"Move end-effector to the knife on the wooden cutting board.\",\n",
      "        \"goalState\": [\n",
      "          {\n",
      "            \"conditions\": {\n",
      "              \"ToolState\": {\n",
      "                \"knife_main.IsInRange\": true\n",
      "              }\n",
      "            }\n",
      "          }\n",
      "        ]\n",
      "      },\n",
      "      {\n",
      "        \"name\": \"GraspTool\",\n",
      "        \"description\": \"Grasp the knife with the gripper.\",\n",
      "        \"goalState\": [\n",
      "          {\n",
      "            \"conditions\": {\n",
      "              \"ToolState\": {\n",
      "                \"knife_main.IsHeld\": true\n",
      "              }\n",
      "            }\n",
      "          }\n",
      "        ]\n",
      "      }\n",
      "    ],\n",
      "    \"SymbolicGoals\": [\n",
      "      {\n",
      "        \"conditions\": {\n",
      "          \"goal\": {\n",
      "            \"ToolAcquired\": true\n",
      "          }\n",
      "        }\n",
      "      }\n",
      "    ],\n",
      "    \"SemanticAnnotation\": \"PhaseClass:Initiation\"\n",
      "  },\n",
      "  \"execution_phase\": {\n",
      "    \"SubPhases\": [\n",
      "      {\n",
      "        \"name\": \"ApproachObjectWithTool\",\n",
      "        \"description\": \"Move the knife to the position above the brown onion.\",\n",
      "        \"goalState\": [\n",
      "          {\n",
      "            \"conditions\": {\n",
      "              \"ObjectState\": {\n",
      "                \"brown_onion_01.IsInRange\": true\n",
      "              }\n",
      "            }\n",
      "          }\n",
      "        ]\n",
      "      },\n",
      "      {\n",
      "        \"name\": \"AlignToolForCut\",\n",
      "        \"description\": \"Align the knife edge with the onion's surface.\",\n",
      "        \"goalState\": [\n",
      "          {\n",
      "            \"conditions\": {\n",
      "              \"ToolState\": {\n",
      "                \"knife_main.IsAligned\": true\n",
      "              }\n",
      "            }\n",
      "          }\n",
      "        ]\n",
      "      }\n",
      "    ],\n",
      "    \"SymbolicGoals\": [\n",
      "      {\n",
      "        \"conditions\": {\n",
      "          \"goal\": {\n",
      "            \"ReadyToInteract\": true\n",
      "          }\n",
      "        }\n",
      "      }\n",
      "    ],\n",
      "    \"SemanticAnnotation\": \"PhaseClass:Execution\"\n",
      "  },\n",
      "  \"interaction_phase\": {\n",
      "    \"SubPhases\": [\n",
      "      {\n",
      "        \"name\": \"PerformPeel\",\n",
      "        \"description\": \"Apply force with the knife to peel the onion's skin.\",\n",
      "        \"goalState\": [\n",
      "          {\n",
      "            \"conditions\": {\n",
      "              \"ObjectState\": {\n",
      "                \"brown_onion_01.IsPeeled\": true\n",
      "              }\n",
      "            }\n",
      "          }\n",
      "        ]\n",
      "      }\n",
      "    ],\n",
      "    \"SymbolicGoals\": [\n",
      "      {\n",
      "        \"conditions\": {\n",
      "          \"goal\": {\n",
      "            \"ObjectStateModified\": true\n",
      "          }\n",
      "        }\n",
      "      }\n",
      "    ],\n",
      "    \"SemanticAnnotation\": \"PhaseClass:Interaction\"\n",
      "  },\n",
      "  \"termination_phase\": {\n",
      "    \"SubPhases\": [\n",
      "      {\n",
      "        \"name\": \"RetractTool\",\n",
      "        \"description\": \"Lift the knife away from the peeled onion.\",\n",
      "        \"goalState\": [\n",
      "          {\n",
      "            \"conditions\": {\n",
      "              \"ToolState\": {\n",
      "                \"knife_main.IsClear\": true\n",
      "              }\n",
      "            }\n",
      "          }\n",
      "        ]\n",
      "      },\n",
      "      {\n",
      "        \"name\": \"ReleaseTool\",\n",
      "        \"description\": \"Place the knife back on the cutting board and release the grip.\",\n",
      "        \"goalState\": [\n",
      "          {\n",
      "            \"conditions\": {\n",
      "              \"ToolState\": {\n",
      "                \"knife_main.IsHeld\": false\n",
      "              }\n",
      "            }\n",
      "          }\n",
      "        ]\n",
      "      }\n",
      "    ],\n",
      "    \"SymbolicGoals\": [\n",
      "      {\n",
      "        \"conditions\": {\n",
      "          \"goal\": {\n",
      "            \"InteractionComplete\": true\n",
      "          }\n",
      "        }\n",
      "      }\n",
      "    ],\n",
      "    \"SemanticAnnotation\": \"PhaseClass:Termination\"\n",
      "  },\n",
      "  \"post_motion_phase\": {\n",
      "    \"SubPhases\": [\n",
      "      {\n",
      "        \"name\": \"ReturnToHome\",\n",
      "        \"description\": \"Move the end-effector to a neutral home position.\",\n",
      "        \"goalState\": [\n",
      "          {\n",
      "            \"conditions\": {\n",
      "              \"RobotState\": {\n",
      "                \"arm.IsAtHome\": true\n",
      "              }\n",
      "            }\n",
      "          }\n",
      "        ]\n",
      "      },\n",
      "      {\n",
      "        \"name\": \"UpdateWorldModel\",\n",
      "        \"description\": \"Update the knowledge base with the new state of the onion.\",\n",
      "        \"goalState\": [\n",
      "          {\n",
      "            \"conditions\": {\n",
      "              \"SystemState\": {\n",
      "                \"KnowledgeBase.IsUpdated\": true\n",
      "              }\n",
      "            }\n",
      "          }\n",
      "        ]\n",
      "      }\n",
      "    ],\n",
      "    \"SymbolicGoals\": [\n",
      "      {\n",
      "        \"conditions\": {\n",
      "          \"goal\": {\n",
      "            \"TaskComplete\": true\n",
      "          }\n",
      "        }\n",
      "      },\n",
      "      {\n",
      "        \"conditions\": {\n",
      "          \"goal\": {\n",
      "            \"TaskComplete\": true\n",
      "          }\n",
      "        }\n",
      "      }\n",
      "    ],\n",
      "    \"SemanticAnnotation\": \"PhaseClass:PostMotion\"\n",
      "  }\n",
      "}\n"
     ]
    }
   ],
   "execution_count": 106
  },
  {
   "metadata": {
    "ExecuteTime": {
     "end_time": "2025-06-15T17:15:22.160546Z",
     "start_time": "2025-06-15T17:15:22.155452Z"
    }
   },
   "cell_type": "code",
   "source": "print(framenet_model)",
   "id": "2447fa18742ecfb7",
   "outputs": [
    {
     "name": "stdout",
     "output_type": "stream",
     "text": [
      "{\n",
      "  \"framenet\": \"peeling\",\n",
      "  \"frame\": \"Peeling\",\n",
      "  \"lexical-unit\": \"peel.v\",\n",
      "  \"core\": {\n",
      "    \"agent\": \"robot\",\n",
      "    \"theme_patient\": \"onion\",\n",
      "    \"instrument\": \"knife\",\n",
      "    \"source\": \"brown onion\",\n",
      "    \"goal\": \"skin off the onion\",\n",
      "    \"result\": \"onion without skin\"\n",
      "  },\n",
      "  \"peripheral\": {\n",
      "    \"location\": \"wooden cutting board\",\n",
      "    \"manner\": \"carefully\",\n",
      "    \"direction\": \"downward\",\n",
      "    \"time\": \"during preparation\",\n",
      "    \"quantity\": \"one onion\",\n",
      "    \"portion\": \"skin\"\n",
      "  }\n",
      "}\n"
     ]
    }
   ],
   "execution_count": 107
  },
  {
   "metadata": {},
   "cell_type": "code",
   "outputs": [],
   "execution_count": null,
   "source": "",
   "id": "b6f27684b3272b66"
  }
 ],
 "metadata": {
  "kernelspec": {
   "display_name": "Python 3",
   "language": "python",
   "name": "python3"
  },
  "language_info": {
   "codemirror_mode": {
    "name": "ipython",
    "version": 2
   },
   "file_extension": ".py",
   "mimetype": "text/x-python",
   "name": "python",
   "nbconvert_exporter": "python",
   "pygments_lexer": "ipython2",
   "version": "2.7.6"
  }
 },
 "nbformat": 4,
 "nbformat_minor": 5
}
