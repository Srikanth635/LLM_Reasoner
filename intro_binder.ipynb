{
 "cells": [
  {
   "metadata": {
    "ExecuteTime": {
     "end_time": "2025-06-19T06:03:23.618629Z",
     "start_time": "2025-06-19T06:03:23.615146Z"
    }
   },
   "cell_type": "code",
   "source": [
    "import json\n",
    "from src.resources.integration.fparser_python import *\n",
    "from src.resources.integration.fparser import *\n",
    "from src.flasking.sending_windows import *"
   ],
   "id": "90bcfe7a4e1e0888",
   "outputs": [],
   "execution_count": 13
  },
  {
   "metadata": {
    "ExecuteTime": {
     "end_time": "2025-06-19T06:03:24.002406Z",
     "start_time": "2025-06-19T06:03:23.999253Z"
    }
   },
   "cell_type": "code",
   "source": [
    "from pathlib import Path\n",
    "with open(\"./CRAM_Plan_Executive.txt\", 'r') as f:\n",
    "    context = f.read()"
   ],
   "id": "db29dc73a94fddfe",
   "outputs": [],
   "execution_count": 14
  },
  {
   "metadata": {
    "ExecuteTime": {
     "end_time": "2025-06-19T06:03:25.199688Z",
     "start_time": "2025-06-19T06:03:25.196311Z"
    }
   },
   "cell_type": "code",
   "source": "summary = parse_summary_data(context)",
   "id": "b0a73f45a2132ef1",
   "outputs": [],
   "execution_count": 15
  },
  {
   "metadata": {
    "ExecuteTime": {
     "end_time": "2025-06-19T06:03:41.842113Z",
     "start_time": "2025-06-19T06:03:41.837111Z"
    }
   },
   "cell_type": "code",
   "source": "summary[0].items()",
   "id": "af0fcfab8708095b",
   "outputs": [
    {
     "data": {
      "text/plain": [
       "dict_items([('Segment 1', 'the person begins preparing for a task by gathering a box of Cheez-It crackers, a red bowl, a red cup, and a bottle of mustard, likely to create a snack or dish.'), ('Segment 2', 'the person approaches the box of Cheez-It crackers to open it, signaling the start of the pouring task.'), ('Segment 3', 'the person grasps the box of Cheez-It crackers with both hands, holding it steady on the table as part of the grasping phase.'), ('Segment 4', 'the person begins grasping-and-moving the box of Cheez-It crackers, pouring them into the red bowl while the red cup and mustard are ready for use.'), ('Segment 5', 'the person continues pouring Cheez-It crackers into the red bowl, maintaining the grasp-and-move phase as they prepare the snack.'), ('Segment 6', 'the person refines the pouring motion, ensuring the crackers are evenly distributed into the bowl while the other items remain in place.'), ('Segment 7', 'the person adjusts the pouring technique, carefully transferring the crackers into the bowl as part of the grasp-and-move phase.'), ('Segment 8', 'the person completes the pouring action, moving the box away from the bowl as the grasp-and-move phase concludes.'), ('Segment 9', 'the person prepares to release the box of Cheez-It crackers, signaling the final phase of the task.'), ('Segment 10', 'the person positions the box for release, ensuring the crackers are fully poured into the bowl before completing the task.'), ('Segment 11', 'the person releases the box of Cheez-It crackers, finishing the pouring task and leaving the red bowl, cup, and mustard ready for the final snack preparation.')])"
      ]
     },
     "execution_count": 18,
     "metadata": {},
     "output_type": "execute_result"
    }
   ],
   "execution_count": 18
  },
  {
   "metadata": {
    "ExecuteTime": {
     "end_time": "2025-06-19T05:59:16.013778Z",
     "start_time": "2025-06-19T05:59:16.009698Z"
    }
   },
   "cell_type": "code",
   "source": "segments = parse_segment_data(context)",
   "id": "7c3d3ed1c5ba3e43",
   "outputs": [],
   "execution_count": 4
  },
  {
   "metadata": {
    "ExecuteTime": {
     "end_time": "2025-06-19T06:00:53.213683Z",
     "start_time": "2025-06-19T06:00:53.210257Z"
    }
   },
   "cell_type": "code",
   "source": [
    "segments_str = []\n",
    "for k,v in  summary[0].items():\n",
    "    segments_str.append(v)"
   ],
   "id": "98bc73a8f5d6f79e",
   "outputs": [],
   "execution_count": 10
  },
  {
   "metadata": {},
   "cell_type": "code",
   "source": "segments[0]",
   "id": "44ed52dcd6bdbf0c",
   "outputs": [],
   "execution_count": null
  },
  {
   "metadata": {
    "ExecuteTime": {
     "end_time": "2025-06-19T06:01:10.652084Z",
     "start_time": "2025-06-19T06:01:10.648124Z"
    }
   },
   "cell_type": "code",
   "source": "type(segments_str)",
   "id": "ce12f92feb54d131",
   "outputs": [
    {
     "data": {
      "text/plain": [
       "list"
      ]
     },
     "execution_count": 12,
     "metadata": {},
     "output_type": "execute_result"
    }
   ],
   "execution_count": 12
  },
  {
   "metadata": {},
   "cell_type": "code",
   "source": "filtered_segments = filter_redundant_actions(segments)",
   "id": "6b182f40a1cd138a",
   "outputs": [],
   "execution_count": null
  },
  {
   "metadata": {},
   "cell_type": "code",
   "source": "len(filtered_segments)",
   "id": "f5c766111f60575e",
   "outputs": [],
   "execution_count": null
  },
  {
   "metadata": {},
   "cell_type": "code",
   "source": "# final_unique_segments = filter_redundant_executed_actions(filtered_segments)",
   "id": "8025a5dd94510bb0",
   "outputs": [],
   "execution_count": null
  },
  {
   "metadata": {},
   "cell_type": "code",
   "source": "chain = decomposer_prompt | ollama_llm.with_structured_output(AtomicsModel, method=\"json_schema\")",
   "id": "72276efba0169e3e",
   "outputs": [],
   "execution_count": null
  },
  {
   "metadata": {},
   "cell_type": "code",
   "source": "final_parse = decompose_segments_with_atomic_actions(chain, filtered_segments)",
   "id": "f133f1ebba500dd0",
   "outputs": [],
   "execution_count": null
  },
  {
   "metadata": {},
   "cell_type": "code",
   "source": "len(final_parse)",
   "id": "38a7302ad633f0b0",
   "outputs": [],
   "execution_count": null
  },
  {
   "metadata": {
    "ExecuteTime": {
     "end_time": "2025-06-18T08:11:48.033651Z",
     "start_time": "2025-06-18T08:11:48.028374Z"
    }
   },
   "cell_type": "code",
   "source": "chain2 = decomposer_prompt | ollama_llm.with_structured_output(AtomicsModel, method=\"json_schema\")",
   "id": "2a978cd1fa23e5a2",
   "outputs": [],
   "execution_count": 5
  },
  {
   "metadata": {
    "ExecuteTime": {
     "end_time": "2025-06-18T08:11:55.517456Z",
     "start_time": "2025-06-18T08:11:49.090141Z"
    }
   },
   "cell_type": "code",
   "source": "final_parse = chain2.invoke({'segments': summary[0]})",
   "id": "e98c515fc78f4a47",
   "outputs": [],
   "execution_count": 6
  },
  {
   "metadata": {
    "ExecuteTime": {
     "end_time": "2025-06-18T08:11:59.490770Z",
     "start_time": "2025-06-18T08:11:59.487657Z"
    }
   },
   "cell_type": "code",
   "source": "final_parse = final_parse.atomics",
   "id": "e88fcd66456ca922",
   "outputs": [],
   "execution_count": 7
  },
  {
   "metadata": {},
   "cell_type": "code",
   "source": [
    "# final_parse[12]['instruction']\n",
    "for par in final_parse:\n",
    "    print(par['instruction'])"
   ],
   "id": "f688141715d2a1fa",
   "outputs": [],
   "execution_count": null
  },
  {
   "metadata": {
    "ExecuteTime": {
     "end_time": "2025-06-18T08:12:04.940854Z",
     "start_time": "2025-06-18T08:12:04.706341Z"
    }
   },
   "cell_type": "code",
   "source": "from src.langchain.agents.enhanced_ad_agent import *",
   "id": "fed64525d7c89cf8",
   "outputs": [
    {
     "name": "stdout",
     "output_type": "stream",
     "text": [
      "Trying OLLAMA model 14b\n",
      "OLLAMA model found\n"
     ]
    }
   ],
   "execution_count": 8
  },
  {
   "metadata": {},
   "cell_type": "code",
   "source": [
    "instruction = final_parse[0]['instruction']\n",
    "ad = final_parse[0]['action_designator']"
   ],
   "id": "6c530383540e6222",
   "outputs": [],
   "execution_count": null
  },
  {
   "metadata": {},
   "cell_type": "code",
   "source": "ad",
   "id": "c70e501edc57cb16",
   "outputs": [],
   "execution_count": null
  },
  {
   "metadata": {
    "ExecuteTime": {
     "end_time": "2025-06-18T08:12:07.997199Z",
     "start_time": "2025-06-18T08:12:07.992333Z"
    }
   },
   "cell_type": "code",
   "source": "graph_output = []",
   "id": "5843c75fb87deac9",
   "outputs": [],
   "execution_count": 9
  },
  {
   "metadata": {
    "ExecuteTime": {
     "end_time": "2025-06-18T08:12:08.294487Z",
     "start_time": "2025-06-18T08:12:08.291406Z"
    }
   },
   "cell_type": "code",
   "source": "final_parse_filtered = final_parse",
   "id": "a76d43c8dabb569a",
   "outputs": [],
   "execution_count": 10
  },
  {
   "metadata": {
    "ExecuteTime": {
     "end_time": "2025-06-18T08:12:08.615411Z",
     "start_time": "2025-06-18T08:12:08.610114Z"
    }
   },
   "cell_type": "code",
   "source": "# final_parse[4]",
   "id": "401d225790834d2",
   "outputs": [],
   "execution_count": 11
  },
  {
   "metadata": {
    "ExecuteTime": {
     "end_time": "2025-06-18T08:12:09.486633Z",
     "start_time": "2025-06-18T08:12:09.478330Z"
    }
   },
   "cell_type": "code",
   "source": "final_parse_filtered",
   "id": "6c1ad5a7e6755948",
   "outputs": [
    {
     "data": {
      "text/plain": [
       "['Pick up the box of Cheez-It crackers',\n",
       " 'Pick up the red bowl',\n",
       " 'Pick up the red cup',\n",
       " 'Pick up the bottle of mustard',\n",
       " 'Place the red bowl on the table in a stable position',\n",
       " 'Place the red cup near the red bowl',\n",
       " 'Place the bottle of mustard near the red bowl',\n",
       " 'Open the box of Cheez-It crackers',\n",
       " 'Pour the Cheez-It crackers from the box into the red bowl',\n",
       " 'Evaluate the pouring process to ensure even distribution',\n",
       " 'Place the empty box back on the table']"
      ]
     },
     "execution_count": 12,
     "metadata": {},
     "output_type": "execute_result"
    }
   ],
   "execution_count": 12
  },
  {
   "metadata": {
    "ExecuteTime": {
     "end_time": "2025-06-18T08:13:37.435852Z",
     "start_time": "2025-06-18T08:12:26.870809Z"
    }
   },
   "cell_type": "code",
   "source": [
    "for fp in final_parse_filtered:\n",
    "    # instruction = fp['instruction']\n",
    "    # ad = fp['action_designator']\n",
    "    out = ad_graph.invoke({'instruction': fp, 'context': \"\"})\n",
    "    graph_output.append(out)"
   ],
   "id": "f34260d98b7e33ae",
   "outputs": [
    {
     "name": "stdout",
     "output_type": "stream",
     "text": [
      "INSIDE ACTION NODE\n",
      "type={'action': 'PickingUp'}\n",
      "['PickingUp']\n",
      "INSIDE UNIVERSAL NODE\n",
      "cram_plan (perform (an action (type grab-object) (an object (type {obj_to_be_grabbed}){obj_to_be_grabbed_props}) (source (a location (on {location}){location_props}))))\n",
      "----------\n",
      "{\"obj_to_be_grabbed\": \"the box of Cheez-It crackers\", \"action_verb\": \"Pick up\", \"location\": null}\n",
      "----------\n",
      "fCONTEXT \n",
      "{\n",
      "  \"action_verb\": \"Pick up\",\n",
      "  \"obj_to_be_grabbed\": \"box of Cheez-It crackers\",\n",
      "  \"obj_to_be_grabbed_props\": {\n",
      "    \"material\": \"cardboard\",\n",
      "    \"texture\": \"smooth\",\n",
      "    \"shape\": \"rectangular\",\n",
      "    \"size\": \"medium\",\n",
      "    \"pattern\": \"printed\",\n",
      "    \"cleanliness\": \"clean\"\n",
      "  },\n",
      "  \"location\": null\n",
      "}\n",
      "----------\n",
      "(perform (an action (type grab-object) (an object (type box of Cheez-It crackers) (material cardboard) (texture smooth) (shape rectangular) (size medium) (pattern printed) (cleanliness clean))))\n",
      "----------\n",
      "INSIDE ACTION NODE\n",
      "type={'action': 'PickingUp'}\n",
      "['PickingUp']\n",
      "INSIDE UNIVERSAL NODE\n",
      "cram_plan (perform (an action (type grab-object) (an object (type {obj_to_be_grabbed}){obj_to_be_grabbed_props}) (source (a location (on {location}){location_props}))))\n",
      "----------\n",
      "{\"obj_to_be_grabbed\": \"the red bowl\", \"action_verb\": \"Pick up\", \"location\": null}\n",
      "----------\n",
      "fCONTEXT \n",
      "{\n",
      "  \"obj_to_be_grabbed\": \"bowl\",\n",
      "  \"obj_to_be_grabbed_props\": {\n",
      "    \"color\": \"red\",\n",
      "    \"shape\": \"round\"\n",
      "  },\n",
      "  \"action_verb\": \"Pick up\",\n",
      "  \"location\": null\n",
      "}\n",
      "----------\n",
      "(perform (an action (type grab-object) (an object (type bowl) (color red) (shape round)) (source (a location (on  ) ))))\n",
      "----------\n",
      "INSIDE ACTION NODE\n",
      "type={'action': 'PickingUp'}\n",
      "['PickingUp']\n",
      "INSIDE UNIVERSAL NODE\n",
      "cram_plan (perform (an action (type grab-object) (an object (type {obj_to_be_grabbed}){obj_to_be_grabbed_props}) (source (a location (on {location}){location_props}))))\n",
      "----------\n",
      "{\"obj_to_be_grabbed\": \"the red cup\", \"action_verb\": \"Pick up\", \"location\": null}\n",
      "----------\n",
      "fCONTEXT \n",
      "{\n",
      "  \"obj_to_be_grabbed\": \"cup\",\n",
      "  \"obj_to_be_grabbed_props\": {\n",
      "    \"color\": \"red\",\n",
      "    \"shape\": \"cylindrical\"\n",
      "  },\n",
      "  \"action_verb\": \"Pick up\",\n",
      "  \"location\": null\n",
      "}\n",
      "----------\n",
      "(perform (an action (type grab-object) (an object (type cup) (color red) (shape cylindrical)) (source (a location (on  ) ))))\n",
      "----------\n",
      "INSIDE ACTION NODE\n",
      "type={'action': 'PickingUp'}\n",
      "['PickingUp']\n",
      "INSIDE UNIVERSAL NODE\n",
      "cram_plan (perform (an action (type grab-object) (an object (type {obj_to_be_grabbed}){obj_to_be_grabbed_props}) (source (a location (on {location}){location_props}))))\n",
      "----------\n",
      "{\"obj_to_be_grabbed\": \"the bottle of mustard\", \"action_verb\": \"Pick up\", \"location\": null}\n",
      "----------\n",
      "fCONTEXT \n",
      "{\n",
      "  \"action_verb\": \"Pick up\",\n",
      "  \"obj_to_be_grabbed\": \"bottle\",\n",
      "  \"obj_to_be_grabbed_props\": {\n",
      "    \"material\": \"glass\",\n",
      "    \"shape\": \"cylindrical\",\n",
      "    \"transparency\": \"transparent\",\n",
      "    \"color\": \"yellow\"\n",
      "  },\n",
      "  \"location\": null\n",
      "}\n",
      "----------\n",
      "(perform (an action (type grab-object) (an object (type bottle) (material glass) (shape cylindrical) (transparency transparent) (color yellow))))\n",
      "----------\n",
      "INSIDE ACTION NODE\n",
      "type={'action': 'Placing'}\n",
      "['Placing']\n",
      "INSIDE UNIVERSAL NODE\n",
      "cram_plan (perform (an action (type put-object) (an object (type {obj_to_be_put}){obj_to_be_put_props})(target (a location (on {location}){location_props}))))\n",
      "----------\n",
      "{\"obj_to_be_put\": \"the red bowl\", \"action_verb\": \"Place\", \"location\": \"the table\"}\n",
      "----------\n",
      "fCONTEXT \n",
      "{\n",
      "  \"action_verb\": \"Place\",\n",
      "  \"obj_to_be_put\": \"bowl\",\n",
      "  \"obj_to_be_put_props\": {\n",
      "    \"color\": \"red\",\n",
      "    \"shape\": \"round\"\n",
      "  },\n",
      "  \"location\": \"table\",\n",
      "  \"location_props\": {\n",
      "    \"position\": \"on\"\n",
      "  }\n",
      "}\n",
      "----------\n",
      "(perform (an action (type put-object) (an object (type bowl) (color red) (shape round)) (target (a location (on table) (position on)))))\n",
      "----------\n",
      "INSIDE ACTION NODE\n",
      "type={'action': 'Placing'}\n",
      "['Placing']\n",
      "INSIDE UNIVERSAL NODE\n",
      "cram_plan (perform (an action (type put-object) (an object (type {obj_to_be_put}){obj_to_be_put_props})(target (a location (on {location}){location_props}))))\n",
      "----------\n",
      "{\"obj_to_be_put\": \"the red cup\", \"action_verb\": \"Place\", \"location\": \"near the red bowl\"}\n",
      "----------\n",
      "fCONTEXT \n",
      "{\n",
      "  \"action_verb\": \"Place\",\n",
      "  \"obj_to_be_put\": \"cup\",\n",
      "  \"obj_to_be_put_props\": {\n",
      "    \"color\": \"red\",\n",
      "    \"shape\": \"cylindrical\"\n",
      "  },\n",
      "  \"location\": \"near the red bowl\",\n",
      "  \"location_props\": {\n",
      "    \"color\": \"red\",\n",
      "    \"shape\": \"cylindrical\"\n",
      "  }\n",
      "}\n",
      "----------\n",
      "(perform (an action (type put-object) (an object (type cup) (color red) (shape cylindrical)) (target (a location (on near the red bowl) (color red) (shape cylindrical)))))\n",
      "----------\n",
      "INSIDE ACTION NODE\n",
      "type={'action': 'Placing'}\n",
      "['Placing']\n",
      "INSIDE UNIVERSAL NODE\n",
      "cram_plan (perform (an action (type put-object) (an object (type {obj_to_be_put}){obj_to_be_put_props})(target (a location (on {location}){location_props}))))\n",
      "----------\n",
      "{\n",
      "  \"obj_to_be_put\": \"the bottle of mustard\",\n",
      "  \"action_verb\": \"Place\",\n",
      "  \"location\": \"near the red bowl\"\n",
      "}\n",
      "----------\n",
      "fCONTEXT \n",
      "{\n",
      "  \"action_verb\": \"Place\",\n",
      "  \"obj_to_be_put\": \"the bottle of mustard\",\n",
      "  \"obj_to_be_put_props\": {\n",
      "    \"container\": \"bottle\",\n",
      "    \"content\": \"mustard\",\n",
      "    \"shape\": \"cylindrical\"\n",
      "  },\n",
      "  \"location\": \"near the red bowl\",\n",
      "  \"location_props\": {\n",
      "    \"color\": \"red\",\n",
      "    \"shape\": \"round\"\n",
      "  }\n",
      "}\n",
      "----------\n",
      "(perform (an action (type put-object) (an object (type the bottle of mustard) (container bottle) (content mustard) (shape cylindrical)) (target (a location (on near the red bowl) (color red) (shape round)))))\n",
      "----------\n",
      "INSIDE ACTION NODE\n",
      "type={'action': 'OpeningADoor'}\n",
      "['OpeningADoor']\n",
      "INSIDE UNIVERSAL NODE\n",
      "cram_plan (perform (an action (type open-door) (a location (on {obj_to_be_opened}){obj_to_be_opened_props})))\n",
      "----------\n",
      "{\"obj_to_be_opened\": \"the box of Cheez-It crackers\", \"action_verb\": \"Open\"}\n",
      "----------\n",
      "fCONTEXT \n",
      "{\n",
      "  \"action_verb\": \"Open\",\n",
      "  \"obj_to_be_opened\": \"box\",\n",
      "  \"obj_to_be_opened_props\": {\n",
      "    \"content\": \"Cheez-It crackers\",\n",
      "    \"material\": \"cardboard\",\n",
      "    \"shape\": \"rectangular\",\n",
      "    \"size\": \"medium\",\n",
      "    \"condition\": \"closed\"\n",
      "  }\n",
      "}\n",
      "----------\n",
      "(perform (an action (type open-door) (a location (on box) (content Cheez-It crackers) (material cardboard) (shape rectangular) (size medium) (condition closed))))\n",
      "----------\n",
      "INSIDE ACTION NODE\n",
      "type={'action': 'Pouring'}\n",
      "['Pouring']\n",
      "INSIDE UNIVERSAL NODE\n",
      "cram_plan (perform (an action (type pour-from-container) (source (an object (type container.n.01) (contains (a substance (type {stuff}){stuff_props}))))(count (unit {unit}){unit_props}(number {amount}){amount_props}))(a location (in {goal}){goal_props}))\n",
      "----------\n",
      "{\n",
      "  \"stuff\": \"Cheez-It crackers\",\n",
      "  \"goal\": \"red bowl\",\n",
      "  \"action_verb\": \"pour\",\n",
      "  \"unit\": null,\n",
      "  \"amount\": null\n",
      "}\n",
      "----------\n",
      "fCONTEXT \n",
      "{\n",
      "  \"stuff\": \"Cheez-It crackers\",\n",
      "  \"stuff_props\": {\n",
      "    \"material\": \"cracker\",\n",
      "    \"texture\": \"crisp\",\n",
      "    \"shape\": \"square\",\n",
      "    \"pattern\": \"solid\",\n",
      "    \"color\": \"golden\"\n",
      "  },\n",
      "  \"goal\": \"red bowl\",\n",
      "  \"goal_props\": {\n",
      "    \"color\": \"red\",\n",
      "    \"shape\": \"round\",\n",
      "    \"material\": \"ceramic\",\n",
      "    \"reflectance\": \"matte\"\n",
      "  },\n",
      "  \"action_verb\": \"pour\",\n",
      "  \"unit\": null,\n",
      "  \"amount\": null\n",
      "}\n",
      "----------\n",
      "(perform (an action (type pour-from-container) (source (an object (type container.n.01) (contains (a substance (type Cheez-It crackers) (material cracker) (texture crisp) (shape square) (pattern solid) (color golden))))) (a location (in red bowl) (color red) (shape round) (material ceramic) (reflectance matte))))\n",
      "----------\n",
      "INSIDE ACTION NODE\n",
      "type={'action': 'Pouring'}\n",
      "['Pouring']\n",
      "INSIDE UNIVERSAL NODE\n",
      "cram_plan (perform (an action (type pour-from-container) (source (an object (type container.n.01) (contains (a substance (type {stuff}){stuff_props}))))(count (unit {unit}){unit_props}(number {amount}){amount_props}))(a location (in {goal}){goal_props}))\n",
      "----------\n",
      "{\"stuff\": null, \"goal\": \"even distribution\", \"action_verb\": \"pouring\", \"unit\": null, \"amount\": null}\n",
      "----------\n",
      "fCONTEXT \n",
      "{\n",
      "  \"action_verb\": \"pouring\",\n",
      "  \"goal\": \"even distribution\",\n",
      "  \"unit\": null,\n",
      "  \"amount\": null,\n",
      "  \"stuff\": null\n",
      "}\n",
      "----------\n",
      "(perform (an action (type pour-from-container) (source (an object (type container.n.01) (contains (a substance (type  ))))) (a location (in even distribution))))\n",
      "----------\n",
      "INSIDE ACTION NODE\n",
      "type={'action': 'Placing'}\n",
      "['Placing']\n",
      "INSIDE UNIVERSAL NODE\n",
      "cram_plan (perform (an action (type put-object) (an object (type {obj_to_be_put}){obj_to_be_put_props})(target (a location (on {location}){location_props}))))\n",
      "----------\n",
      "{\"obj_to_be_put\": \"the empty box\", \"action_verb\": \"Place\", \"location\": \"the table\"}\n",
      "----------\n",
      "fCONTEXT \n",
      "{\n",
      "  \"action_verb\": \"Place\",\n",
      "  \"obj_to_be_put\": \"box\",\n",
      "  \"obj_to_be_put_props\": {\n",
      "    \"condition\": \"empty\"\n",
      "  },\n",
      "  \"location\": \"table\",\n",
      "  \"location_props\": {\n",
      "    \"position\": \"on\"\n",
      "  }\n",
      "}\n",
      "----------\n",
      "(perform (an action (type put-object) (an object (type box) (condition empty)) (target (a location (on table) (position on)))))\n",
      "----------\n"
     ]
    }
   ],
   "execution_count": 13
  },
  {
   "metadata": {
    "ExecuteTime": {
     "end_time": "2025-06-18T08:14:10.755554Z",
     "start_time": "2025-06-18T08:14:10.735869Z"
    }
   },
   "cell_type": "code",
   "source": [
    "for seg in segments:\n",
    "    print(\"📡 Sending test data to 1st window...\")\n",
    "    send_data_to_window(1, seg)"
   ],
   "id": "fb9ea5e4da4450c5",
   "outputs": [
    {
     "name": "stdout",
     "output_type": "stream",
     "text": [
      "📡 Sending test data to 1st window...\n",
      "✅ Data sent to Window 1: {'status': 'success', 'window': 'window1'}\n",
      "📡 Sending test data to 1st window...\n",
      "✅ Data sent to Window 1: {'status': 'success', 'window': 'window1'}\n",
      "📡 Sending test data to 1st window...\n",
      "✅ Data sent to Window 1: {'status': 'success', 'window': 'window1'}\n",
      "📡 Sending test data to 1st window...\n",
      "✅ Data sent to Window 1: {'status': 'success', 'window': 'window1'}\n",
      "📡 Sending test data to 1st window...\n",
      "✅ Data sent to Window 1: {'status': 'success', 'window': 'window1'}\n",
      "📡 Sending test data to 1st window...\n",
      "✅ Data sent to Window 1: {'status': 'success', 'window': 'window1'}\n",
      "📡 Sending test data to 1st window...\n",
      "✅ Data sent to Window 1: {'status': 'success', 'window': 'window1'}\n",
      "📡 Sending test data to 1st window...\n",
      "✅ Data sent to Window 1: {'status': 'success', 'window': 'window1'}\n",
      "📡 Sending test data to 1st window...\n",
      "✅ Data sent to Window 1: {'status': 'success', 'window': 'window1'}\n",
      "📡 Sending test data to 1st window...\n",
      "✅ Data sent to Window 1: {'status': 'success', 'window': 'window1'}\n",
      "📡 Sending test data to 1st window...\n",
      "✅ Data sent to Window 1: {'status': 'success', 'window': 'window1'}\n"
     ]
    }
   ],
   "execution_count": 14
  },
  {
   "metadata": {
    "ExecuteTime": {
     "end_time": "2025-06-18T08:14:14.288387Z",
     "start_time": "2025-06-18T08:14:14.273909Z"
    }
   },
   "cell_type": "code",
   "source": [
    "for par in final_parse:\n",
    "    print(\"📡 Sending test data to 2nd window...\")\n",
    "    send_data_to_window(2, par)"
   ],
   "id": "9e12ad4876caa4ed",
   "outputs": [
    {
     "name": "stdout",
     "output_type": "stream",
     "text": [
      "📡 Sending test data to 2nd window...\n",
      "✅ Data sent to Window 2: {'status': 'success', 'window': 'window2'}\n",
      "📡 Sending test data to 2nd window...\n",
      "✅ Data sent to Window 2: {'status': 'success', 'window': 'window2'}\n",
      "📡 Sending test data to 2nd window...\n",
      "✅ Data sent to Window 2: {'status': 'success', 'window': 'window2'}\n",
      "📡 Sending test data to 2nd window...\n",
      "✅ Data sent to Window 2: {'status': 'success', 'window': 'window2'}\n",
      "📡 Sending test data to 2nd window...\n",
      "✅ Data sent to Window 2: {'status': 'success', 'window': 'window2'}\n",
      "📡 Sending test data to 2nd window...\n",
      "✅ Data sent to Window 2: {'status': 'success', 'window': 'window2'}\n",
      "📡 Sending test data to 2nd window...\n",
      "✅ Data sent to Window 2: {'status': 'success', 'window': 'window2'}\n",
      "📡 Sending test data to 2nd window...\n",
      "✅ Data sent to Window 2: {'status': 'success', 'window': 'window2'}\n",
      "📡 Sending test data to 2nd window...\n",
      "✅ Data sent to Window 2: {'status': 'success', 'window': 'window2'}\n",
      "📡 Sending test data to 2nd window...\n",
      "✅ Data sent to Window 2: {'status': 'success', 'window': 'window2'}\n",
      "📡 Sending test data to 2nd window...\n",
      "✅ Data sent to Window 2: {'status': 'success', 'window': 'window2'}\n"
     ]
    }
   ],
   "execution_count": 15
  },
  {
   "metadata": {},
   "cell_type": "code",
   "source": "# graph_output",
   "id": "2966cda1256dc12c",
   "outputs": [],
   "execution_count": null
  },
  {
   "metadata": {
    "ExecuteTime": {
     "end_time": "2025-06-18T08:14:25.597310Z",
     "start_time": "2025-06-18T08:14:25.583376Z"
    }
   },
   "cell_type": "code",
   "source": [
    "for out in graph_output:\n",
    "    print(\"<UNK> Sending test data to 3rd window...\")\n",
    "    new_out = {}\n",
    "    try:\n",
    "        new_out['instruction'] = out['instruction']\n",
    "        new_out['action_core'] = out['action_core']\n",
    "        new_out['action_core_attributes'] = json.loads(out['action_core_attributes'])\n",
    "        new_out['enriched_action_core_attributes'] = json.loads(out['enriched_action_core_attributes'])\n",
    "        new_out['cram_plan'] = out['cram_plan_response']\n",
    "        print(\"Parsed output normally\")\n",
    "    except:\n",
    "        new_out['instruction'] = out['instruction']\n",
    "        new_out['action_core'] = out['action_core']\n",
    "        new_out['action_core_attributes'] = out['action_core_attributes']\n",
    "        new_out['enriched_action_core_attributes'] = out['enriched_action_core_attributes']\n",
    "        new_out['cram_plan'] = out['cram_plan_response']\n",
    "        print(\"Parsed output with strings\")\n",
    "\n",
    "    send_data_to_window(3, new_out)"
   ],
   "id": "f5102aba54eaf85f",
   "outputs": [
    {
     "name": "stdout",
     "output_type": "stream",
     "text": [
      "<UNK> Sending test data to 3rd window...\n",
      "Parsed output normally\n",
      "✅ Data sent to Window 3: {'status': 'success', 'window': 'window3'}\n",
      "<UNK> Sending test data to 3rd window...\n",
      "Parsed output normally\n",
      "✅ Data sent to Window 3: {'status': 'success', 'window': 'window3'}\n",
      "<UNK> Sending test data to 3rd window...\n",
      "Parsed output normally\n",
      "✅ Data sent to Window 3: {'status': 'success', 'window': 'window3'}\n",
      "<UNK> Sending test data to 3rd window...\n",
      "Parsed output normally\n",
      "✅ Data sent to Window 3: {'status': 'success', 'window': 'window3'}\n",
      "<UNK> Sending test data to 3rd window...\n",
      "Parsed output normally\n",
      "✅ Data sent to Window 3: {'status': 'success', 'window': 'window3'}\n",
      "<UNK> Sending test data to 3rd window...\n",
      "Parsed output normally\n",
      "✅ Data sent to Window 3: {'status': 'success', 'window': 'window3'}\n",
      "<UNK> Sending test data to 3rd window...\n",
      "Parsed output normally\n",
      "✅ Data sent to Window 3: {'status': 'success', 'window': 'window3'}\n",
      "<UNK> Sending test data to 3rd window...\n",
      "Parsed output normally\n",
      "✅ Data sent to Window 3: {'status': 'success', 'window': 'window3'}\n",
      "<UNK> Sending test data to 3rd window...\n",
      "Parsed output normally\n",
      "✅ Data sent to Window 3: {'status': 'success', 'window': 'window3'}\n",
      "<UNK> Sending test data to 3rd window...\n",
      "Parsed output normally\n",
      "✅ Data sent to Window 3: {'status': 'success', 'window': 'window3'}\n",
      "<UNK> Sending test data to 3rd window...\n",
      "Parsed output normally\n",
      "✅ Data sent to Window 3: {'status': 'success', 'window': 'window3'}\n"
     ]
    }
   ],
   "execution_count": 16
  },
  {
   "metadata": {},
   "cell_type": "code",
   "source": [
    "from src.langchain.models_graph import *\n",
    "config = {\"configurable\" : {\"thread_id\" : 1}}"
   ],
   "id": "55858c987707fe2e",
   "outputs": [],
   "execution_count": null
  },
  {
   "metadata": {},
   "cell_type": "code",
   "source": [
    "framenet_model = \"\"\n",
    "flanagan = \"\""
   ],
   "id": "9b5e53c8398bd24b",
   "outputs": [],
   "execution_count": null
  },
  {
   "metadata": {},
   "cell_type": "code",
   "source": "len(graph_output)",
   "id": "85a3e35286c70c51",
   "outputs": [],
   "execution_count": null
  },
  {
   "metadata": {},
   "cell_type": "code",
   "source": [
    "for out in graph_output:\n",
    "    print(\"<UNK> Sending test data to 4th window...\")\n",
    "    instruction = out['instruction']\n",
    "    action_core = out['action_core']\n",
    "    action_core_attributes = out['action_core_attributes']\n",
    "    enriched_action_core_attributes = json.loads(out['enriched_action_core_attributes'])\n",
    "    cram_plan = out['cram_plan_response']\n",
    "    final_graph_state = model_graph.invoke({\"instruction\": instruction,\n",
    "                                                 \"action_core\": action_core,\n",
    "                                                 \"enriched_action_core_attributes\": enriched_action_core_attributes,\n",
    "                                                 \"cram_plan_response\": cram_plan},config=config, stream_mode=\"updates\")\n",
    "    flanagan = model_graph.get_state(config).values[\"flanagan\"]\n",
    "    framenet_model = model_graph.get_state(config).values[\"framenet_model\"]\n",
    "    new_out = {}\n",
    "    try:\n",
    "        flanagan_json = json.loads(flanagan)\n",
    "        framenet_model_json = json.loads(framenet_model)\n",
    "        print(\"Parsed models output normally\")\n",
    "        new_out = {\n",
    "            \"framenet\" : framenet_model_json,\n",
    "            \"flanagan\" : flanagan_json\n",
    "        }\n",
    "    except:\n",
    "        print(\"Parsed models output with strings\")\n",
    "        new_out = {\n",
    "            \"framenet\" : framenet_model,\n",
    "            \"flanagan\" : flanagan\n",
    "        }\n",
    "\n",
    "    send_data_to_window(4, new_out)"
   ],
   "id": "d4255063914fac8e",
   "outputs": [],
   "execution_count": null
  },
  {
   "metadata": {},
   "cell_type": "code",
   "source": "print(flanagan)",
   "id": "859e0e863f263be7",
   "outputs": [],
   "execution_count": null
  },
  {
   "metadata": {},
   "cell_type": "code",
   "source": "print(framenet_model)",
   "id": "2447fa18742ecfb7",
   "outputs": [],
   "execution_count": null
  },
  {
   "metadata": {},
   "cell_type": "code",
   "source": "",
   "id": "b6f27684b3272b66",
   "outputs": [],
   "execution_count": null
  }
 ],
 "metadata": {
  "kernelspec": {
   "display_name": "Python 3",
   "language": "python",
   "name": "python3"
  },
  "language_info": {
   "codemirror_mode": {
    "name": "ipython",
    "version": 2
   },
   "file_extension": ".py",
   "mimetype": "text/x-python",
   "name": "python",
   "nbconvert_exporter": "python",
   "pygments_lexer": "ipython2",
   "version": "2.7.6"
  }
 },
 "nbformat": 4,
 "nbformat_minor": 5
}
